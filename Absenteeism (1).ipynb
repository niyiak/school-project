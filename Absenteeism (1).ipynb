{
  "nbformat": 4,
  "nbformat_minor": 0,
  "metadata": {
    "colab": {
      "provenance": []
    },
    "kernelspec": {
      "name": "python3",
      "display_name": "Python 3"
    },
    "language_info": {
      "name": "python"
    }
  },
  "cells": [
    {
      "cell_type": "code",
      "execution_count": null,
      "metadata": {
        "id": "3AdIDfdN7CNO"
      },
      "outputs": [],
      "source": []
    },
    {
      "cell_type": "markdown",
      "source": [
        "Load Database\n"
      ],
      "metadata": {
        "id": "ZXHBxQN77GIC"
      }
    },
    {
      "cell_type": "code",
      "source": [
        "import pandas as pd\n",
        "import numpy as np\n",
        "import seaborn as sns\n",
        "\n",
        "from sklearn import preprocessing, model_selection\n",
        "from sklearn.linear_model import LinearRegression"
      ],
      "metadata": {
        "id": "B8W664sD7JLA"
      },
      "execution_count": 2,
      "outputs": []
    },
    {
      "cell_type": "code",
      "source": [
        "df = pd.read_excel('/content/sample_data/MFGEmployees.xlsx')"
      ],
      "metadata": {
        "id": "wTG49zur7TP9"
      },
      "execution_count": 4,
      "outputs": []
    },
    {
      "cell_type": "markdown",
      "source": [
        "Data Exploration\n"
      ],
      "metadata": {
        "id": "yRjIxAyE7otg"
      }
    },
    {
      "cell_type": "code",
      "source": [
        "df.head()"
      ],
      "metadata": {
        "colab": {
          "base_uri": "https://localhost:8080/",
          "height": 206
        },
        "id": "-J4noWdlvbqh",
        "outputId": "0fb18daf-84e0-41d4-c0e9-c2d1930c2421"
      },
      "execution_count": 5,
      "outputs": [
        {
          "output_type": "execute_result",
          "data": {
            "text/plain": [
              "   EmployeeNumber    Surname GivenName Gender             City JobTitle  \\\n",
              "0               1  Gutierrez     Molly      F          Burnaby    Baker   \n",
              "1               2   Hardwick   Stephen      M        Courtenay    Baker   \n",
              "2               3    Delgado   Chester      M         Richmond    Baker   \n",
              "3               4      Simon     Irene      F         Victoria    Baker   \n",
              "4               5   Delvalle    Edward      M  New Westminster    Baker   \n",
              "\n",
              "  DepartmentName    StoreLocation Division BusinessUnit  Age  LengthService  \\\n",
              "0         Bakery          Burnaby   Stores       Stores   32              6   \n",
              "1         Bakery          Nanaimo   Stores       Stores   40              5   \n",
              "2         Bakery         Richmond   Stores       Stores   48              4   \n",
              "3         Bakery         Victoria   Stores       Stores   44              3   \n",
              "4         Bakery  New Westminster   Stores       Stores   35              3   \n",
              "\n",
              "   AbsentHours  \n",
              "0    36.577306  \n",
              "1    30.165072  \n",
              "2    83.807798  \n",
              "3    70.020165  \n",
              "4     0.000000  "
            ],
            "text/html": [
              "\n",
              "  <div id=\"df-917afcf6-64d3-4965-b895-de2b2a0446ea\" class=\"colab-df-container\">\n",
              "    <div>\n",
              "<style scoped>\n",
              "    .dataframe tbody tr th:only-of-type {\n",
              "        vertical-align: middle;\n",
              "    }\n",
              "\n",
              "    .dataframe tbody tr th {\n",
              "        vertical-align: top;\n",
              "    }\n",
              "\n",
              "    .dataframe thead th {\n",
              "        text-align: right;\n",
              "    }\n",
              "</style>\n",
              "<table border=\"1\" class=\"dataframe\">\n",
              "  <thead>\n",
              "    <tr style=\"text-align: right;\">\n",
              "      <th></th>\n",
              "      <th>EmployeeNumber</th>\n",
              "      <th>Surname</th>\n",
              "      <th>GivenName</th>\n",
              "      <th>Gender</th>\n",
              "      <th>City</th>\n",
              "      <th>JobTitle</th>\n",
              "      <th>DepartmentName</th>\n",
              "      <th>StoreLocation</th>\n",
              "      <th>Division</th>\n",
              "      <th>BusinessUnit</th>\n",
              "      <th>Age</th>\n",
              "      <th>LengthService</th>\n",
              "      <th>AbsentHours</th>\n",
              "    </tr>\n",
              "  </thead>\n",
              "  <tbody>\n",
              "    <tr>\n",
              "      <th>0</th>\n",
              "      <td>1</td>\n",
              "      <td>Gutierrez</td>\n",
              "      <td>Molly</td>\n",
              "      <td>F</td>\n",
              "      <td>Burnaby</td>\n",
              "      <td>Baker</td>\n",
              "      <td>Bakery</td>\n",
              "      <td>Burnaby</td>\n",
              "      <td>Stores</td>\n",
              "      <td>Stores</td>\n",
              "      <td>32</td>\n",
              "      <td>6</td>\n",
              "      <td>36.577306</td>\n",
              "    </tr>\n",
              "    <tr>\n",
              "      <th>1</th>\n",
              "      <td>2</td>\n",
              "      <td>Hardwick</td>\n",
              "      <td>Stephen</td>\n",
              "      <td>M</td>\n",
              "      <td>Courtenay</td>\n",
              "      <td>Baker</td>\n",
              "      <td>Bakery</td>\n",
              "      <td>Nanaimo</td>\n",
              "      <td>Stores</td>\n",
              "      <td>Stores</td>\n",
              "      <td>40</td>\n",
              "      <td>5</td>\n",
              "      <td>30.165072</td>\n",
              "    </tr>\n",
              "    <tr>\n",
              "      <th>2</th>\n",
              "      <td>3</td>\n",
              "      <td>Delgado</td>\n",
              "      <td>Chester</td>\n",
              "      <td>M</td>\n",
              "      <td>Richmond</td>\n",
              "      <td>Baker</td>\n",
              "      <td>Bakery</td>\n",
              "      <td>Richmond</td>\n",
              "      <td>Stores</td>\n",
              "      <td>Stores</td>\n",
              "      <td>48</td>\n",
              "      <td>4</td>\n",
              "      <td>83.807798</td>\n",
              "    </tr>\n",
              "    <tr>\n",
              "      <th>3</th>\n",
              "      <td>4</td>\n",
              "      <td>Simon</td>\n",
              "      <td>Irene</td>\n",
              "      <td>F</td>\n",
              "      <td>Victoria</td>\n",
              "      <td>Baker</td>\n",
              "      <td>Bakery</td>\n",
              "      <td>Victoria</td>\n",
              "      <td>Stores</td>\n",
              "      <td>Stores</td>\n",
              "      <td>44</td>\n",
              "      <td>3</td>\n",
              "      <td>70.020165</td>\n",
              "    </tr>\n",
              "    <tr>\n",
              "      <th>4</th>\n",
              "      <td>5</td>\n",
              "      <td>Delvalle</td>\n",
              "      <td>Edward</td>\n",
              "      <td>M</td>\n",
              "      <td>New Westminster</td>\n",
              "      <td>Baker</td>\n",
              "      <td>Bakery</td>\n",
              "      <td>New Westminster</td>\n",
              "      <td>Stores</td>\n",
              "      <td>Stores</td>\n",
              "      <td>35</td>\n",
              "      <td>3</td>\n",
              "      <td>0.000000</td>\n",
              "    </tr>\n",
              "  </tbody>\n",
              "</table>\n",
              "</div>\n",
              "    <div class=\"colab-df-buttons\">\n",
              "\n",
              "  <div class=\"colab-df-container\">\n",
              "    <button class=\"colab-df-convert\" onclick=\"convertToInteractive('df-917afcf6-64d3-4965-b895-de2b2a0446ea')\"\n",
              "            title=\"Convert this dataframe to an interactive table.\"\n",
              "            style=\"display:none;\">\n",
              "\n",
              "  <svg xmlns=\"http://www.w3.org/2000/svg\" height=\"24px\" viewBox=\"0 -960 960 960\">\n",
              "    <path d=\"M120-120v-720h720v720H120Zm60-500h600v-160H180v160Zm220 220h160v-160H400v160Zm0 220h160v-160H400v160ZM180-400h160v-160H180v160Zm440 0h160v-160H620v160ZM180-180h160v-160H180v160Zm440 0h160v-160H620v160Z\"/>\n",
              "  </svg>\n",
              "    </button>\n",
              "\n",
              "  <style>\n",
              "    .colab-df-container {\n",
              "      display:flex;\n",
              "      gap: 12px;\n",
              "    }\n",
              "\n",
              "    .colab-df-convert {\n",
              "      background-color: #E8F0FE;\n",
              "      border: none;\n",
              "      border-radius: 50%;\n",
              "      cursor: pointer;\n",
              "      display: none;\n",
              "      fill: #1967D2;\n",
              "      height: 32px;\n",
              "      padding: 0 0 0 0;\n",
              "      width: 32px;\n",
              "    }\n",
              "\n",
              "    .colab-df-convert:hover {\n",
              "      background-color: #E2EBFA;\n",
              "      box-shadow: 0px 1px 2px rgba(60, 64, 67, 0.3), 0px 1px 3px 1px rgba(60, 64, 67, 0.15);\n",
              "      fill: #174EA6;\n",
              "    }\n",
              "\n",
              "    .colab-df-buttons div {\n",
              "      margin-bottom: 4px;\n",
              "    }\n",
              "\n",
              "    [theme=dark] .colab-df-convert {\n",
              "      background-color: #3B4455;\n",
              "      fill: #D2E3FC;\n",
              "    }\n",
              "\n",
              "    [theme=dark] .colab-df-convert:hover {\n",
              "      background-color: #434B5C;\n",
              "      box-shadow: 0px 1px 3px 1px rgba(0, 0, 0, 0.15);\n",
              "      filter: drop-shadow(0px 1px 2px rgba(0, 0, 0, 0.3));\n",
              "      fill: #FFFFFF;\n",
              "    }\n",
              "  </style>\n",
              "\n",
              "    <script>\n",
              "      const buttonEl =\n",
              "        document.querySelector('#df-917afcf6-64d3-4965-b895-de2b2a0446ea button.colab-df-convert');\n",
              "      buttonEl.style.display =\n",
              "        google.colab.kernel.accessAllowed ? 'block' : 'none';\n",
              "\n",
              "      async function convertToInteractive(key) {\n",
              "        const element = document.querySelector('#df-917afcf6-64d3-4965-b895-de2b2a0446ea');\n",
              "        const dataTable =\n",
              "          await google.colab.kernel.invokeFunction('convertToInteractive',\n",
              "                                                    [key], {});\n",
              "        if (!dataTable) return;\n",
              "\n",
              "        const docLinkHtml = 'Like what you see? Visit the ' +\n",
              "          '<a target=\"_blank\" href=https://colab.research.google.com/notebooks/data_table.ipynb>data table notebook</a>'\n",
              "          + ' to learn more about interactive tables.';\n",
              "        element.innerHTML = '';\n",
              "        dataTable['output_type'] = 'display_data';\n",
              "        await google.colab.output.renderOutput(dataTable, element);\n",
              "        const docLink = document.createElement('div');\n",
              "        docLink.innerHTML = docLinkHtml;\n",
              "        element.appendChild(docLink);\n",
              "      }\n",
              "    </script>\n",
              "  </div>\n",
              "\n",
              "\n",
              "<div id=\"df-0de0554c-45ab-48d1-8866-74ade8bd8689\">\n",
              "  <button class=\"colab-df-quickchart\" onclick=\"quickchart('df-0de0554c-45ab-48d1-8866-74ade8bd8689')\"\n",
              "            title=\"Suggest charts\"\n",
              "            style=\"display:none;\">\n",
              "\n",
              "<svg xmlns=\"http://www.w3.org/2000/svg\" height=\"24px\"viewBox=\"0 0 24 24\"\n",
              "     width=\"24px\">\n",
              "    <g>\n",
              "        <path d=\"M19 3H5c-1.1 0-2 .9-2 2v14c0 1.1.9 2 2 2h14c1.1 0 2-.9 2-2V5c0-1.1-.9-2-2-2zM9 17H7v-7h2v7zm4 0h-2V7h2v10zm4 0h-2v-4h2v4z\"/>\n",
              "    </g>\n",
              "</svg>\n",
              "  </button>\n",
              "\n",
              "<style>\n",
              "  .colab-df-quickchart {\n",
              "      --bg-color: #E8F0FE;\n",
              "      --fill-color: #1967D2;\n",
              "      --hover-bg-color: #E2EBFA;\n",
              "      --hover-fill-color: #174EA6;\n",
              "      --disabled-fill-color: #AAA;\n",
              "      --disabled-bg-color: #DDD;\n",
              "  }\n",
              "\n",
              "  [theme=dark] .colab-df-quickchart {\n",
              "      --bg-color: #3B4455;\n",
              "      --fill-color: #D2E3FC;\n",
              "      --hover-bg-color: #434B5C;\n",
              "      --hover-fill-color: #FFFFFF;\n",
              "      --disabled-bg-color: #3B4455;\n",
              "      --disabled-fill-color: #666;\n",
              "  }\n",
              "\n",
              "  .colab-df-quickchart {\n",
              "    background-color: var(--bg-color);\n",
              "    border: none;\n",
              "    border-radius: 50%;\n",
              "    cursor: pointer;\n",
              "    display: none;\n",
              "    fill: var(--fill-color);\n",
              "    height: 32px;\n",
              "    padding: 0;\n",
              "    width: 32px;\n",
              "  }\n",
              "\n",
              "  .colab-df-quickchart:hover {\n",
              "    background-color: var(--hover-bg-color);\n",
              "    box-shadow: 0 1px 2px rgba(60, 64, 67, 0.3), 0 1px 3px 1px rgba(60, 64, 67, 0.15);\n",
              "    fill: var(--button-hover-fill-color);\n",
              "  }\n",
              "\n",
              "  .colab-df-quickchart-complete:disabled,\n",
              "  .colab-df-quickchart-complete:disabled:hover {\n",
              "    background-color: var(--disabled-bg-color);\n",
              "    fill: var(--disabled-fill-color);\n",
              "    box-shadow: none;\n",
              "  }\n",
              "\n",
              "  .colab-df-spinner {\n",
              "    border: 2px solid var(--fill-color);\n",
              "    border-color: transparent;\n",
              "    border-bottom-color: var(--fill-color);\n",
              "    animation:\n",
              "      spin 1s steps(1) infinite;\n",
              "  }\n",
              "\n",
              "  @keyframes spin {\n",
              "    0% {\n",
              "      border-color: transparent;\n",
              "      border-bottom-color: var(--fill-color);\n",
              "      border-left-color: var(--fill-color);\n",
              "    }\n",
              "    20% {\n",
              "      border-color: transparent;\n",
              "      border-left-color: var(--fill-color);\n",
              "      border-top-color: var(--fill-color);\n",
              "    }\n",
              "    30% {\n",
              "      border-color: transparent;\n",
              "      border-left-color: var(--fill-color);\n",
              "      border-top-color: var(--fill-color);\n",
              "      border-right-color: var(--fill-color);\n",
              "    }\n",
              "    40% {\n",
              "      border-color: transparent;\n",
              "      border-right-color: var(--fill-color);\n",
              "      border-top-color: var(--fill-color);\n",
              "    }\n",
              "    60% {\n",
              "      border-color: transparent;\n",
              "      border-right-color: var(--fill-color);\n",
              "    }\n",
              "    80% {\n",
              "      border-color: transparent;\n",
              "      border-right-color: var(--fill-color);\n",
              "      border-bottom-color: var(--fill-color);\n",
              "    }\n",
              "    90% {\n",
              "      border-color: transparent;\n",
              "      border-bottom-color: var(--fill-color);\n",
              "    }\n",
              "  }\n",
              "</style>\n",
              "\n",
              "  <script>\n",
              "    async function quickchart(key) {\n",
              "      const quickchartButtonEl =\n",
              "        document.querySelector('#' + key + ' button');\n",
              "      quickchartButtonEl.disabled = true;  // To prevent multiple clicks.\n",
              "      quickchartButtonEl.classList.add('colab-df-spinner');\n",
              "      try {\n",
              "        const charts = await google.colab.kernel.invokeFunction(\n",
              "            'suggestCharts', [key], {});\n",
              "      } catch (error) {\n",
              "        console.error('Error during call to suggestCharts:', error);\n",
              "      }\n",
              "      quickchartButtonEl.classList.remove('colab-df-spinner');\n",
              "      quickchartButtonEl.classList.add('colab-df-quickchart-complete');\n",
              "    }\n",
              "    (() => {\n",
              "      let quickchartButtonEl =\n",
              "        document.querySelector('#df-0de0554c-45ab-48d1-8866-74ade8bd8689 button');\n",
              "      quickchartButtonEl.style.display =\n",
              "        google.colab.kernel.accessAllowed ? 'block' : 'none';\n",
              "    })();\n",
              "  </script>\n",
              "</div>\n",
              "\n",
              "    </div>\n",
              "  </div>\n"
            ],
            "application/vnd.google.colaboratory.intrinsic+json": {
              "type": "dataframe",
              "variable_name": "df",
              "summary": "{\n  \"name\": \"df\",\n  \"rows\": 8336,\n  \"fields\": [\n    {\n      \"column\": \"EmployeeNumber\",\n      \"properties\": {\n        \"dtype\": \"number\",\n        \"std\": 2406,\n        \"min\": 1,\n        \"max\": 8336,\n        \"num_unique_values\": 8336,\n        \"samples\": [\n          3471,\n          2302,\n          7980\n        ],\n        \"semantic_type\": \"\",\n        \"description\": \"\"\n      }\n    },\n    {\n      \"column\": \"Surname\",\n      \"properties\": {\n        \"dtype\": \"category\",\n        \"num_unique_values\": 4051,\n        \"samples\": [\n          \"Monroy\",\n          \"Hernandez\",\n          \"Cotter\"\n        ],\n        \"semantic_type\": \"\",\n        \"description\": \"\"\n      }\n    },\n    {\n      \"column\": \"GivenName\",\n      \"properties\": {\n        \"dtype\": \"category\",\n        \"num_unique_values\": 1625,\n        \"samples\": [\n          \"Sonia\",\n          \"Freda\",\n          \"Tracey\"\n        ],\n        \"semantic_type\": \"\",\n        \"description\": \"\"\n      }\n    },\n    {\n      \"column\": \"Gender\",\n      \"properties\": {\n        \"dtype\": \"category\",\n        \"num_unique_values\": 2,\n        \"samples\": [\n          \"M\",\n          \"F\"\n        ],\n        \"semantic_type\": \"\",\n        \"description\": \"\"\n      }\n    },\n    {\n      \"column\": \"City\",\n      \"properties\": {\n        \"dtype\": \"category\",\n        \"num_unique_values\": 243,\n        \"samples\": [\n          \"Good Hope Lake\",\n          \"Sechelt\"\n        ],\n        \"semantic_type\": \"\",\n        \"description\": \"\"\n      }\n    },\n    {\n      \"column\": \"JobTitle\",\n      \"properties\": {\n        \"dtype\": \"category\",\n        \"num_unique_values\": 47,\n        \"samples\": [\n          \"Meats Manager\",\n          \"Director, Audit\"\n        ],\n        \"semantic_type\": \"\",\n        \"description\": \"\"\n      }\n    },\n    {\n      \"column\": \"DepartmentName\",\n      \"properties\": {\n        \"dtype\": \"category\",\n        \"num_unique_values\": 21,\n        \"samples\": [\n          \"Bakery\",\n          \"Store Management\"\n        ],\n        \"semantic_type\": \"\",\n        \"description\": \"\"\n      }\n    },\n    {\n      \"column\": \"StoreLocation\",\n      \"properties\": {\n        \"dtype\": \"category\",\n        \"num_unique_values\": 40,\n        \"samples\": [\n          \"Chilliwack\",\n          \"Surrey\"\n        ],\n        \"semantic_type\": \"\",\n        \"description\": \"\"\n      }\n    },\n    {\n      \"column\": \"Division\",\n      \"properties\": {\n        \"dtype\": \"category\",\n        \"num_unique_values\": 6,\n        \"samples\": [\n          \"Stores\",\n          \"FinanceAndAccounting\"\n        ],\n        \"semantic_type\": \"\",\n        \"description\": \"\"\n      }\n    },\n    {\n      \"column\": \"BusinessUnit\",\n      \"properties\": {\n        \"dtype\": \"category\",\n        \"num_unique_values\": 2,\n        \"samples\": [\n          \"HeadOffice\",\n          \"Stores\"\n        ],\n        \"semantic_type\": \"\",\n        \"description\": \"\"\n      }\n    },\n    {\n      \"column\": \"Age\",\n      \"properties\": {\n        \"dtype\": \"number\",\n        \"std\": 9,\n        \"min\": 3,\n        \"max\": 77,\n        \"num_unique_values\": 68,\n        \"samples\": [\n          18,\n          51\n        ],\n        \"semantic_type\": \"\",\n        \"description\": \"\"\n      }\n    },\n    {\n      \"column\": \"LengthService\",\n      \"properties\": {\n        \"dtype\": \"number\",\n        \"std\": 2,\n        \"min\": 0,\n        \"max\": 43,\n        \"num_unique_values\": 37,\n        \"samples\": [\n          16,\n          20\n        ],\n        \"semantic_type\": \"\",\n        \"description\": \"\"\n      }\n    },\n    {\n      \"column\": \"AbsentHours\",\n      \"properties\": {\n        \"dtype\": \"number\",\n        \"std\": 49.0383645885587,\n        \"min\": 0.0,\n        \"max\": 272.5301234,\n        \"num_unique_values\": 7016,\n        \"samples\": [\n          17.40637124,\n          18.61685271\n        ],\n        \"semantic_type\": \"\",\n        \"description\": \"\"\n      }\n    }\n  ]\n}"
            }
          },
          "metadata": {},
          "execution_count": 5
        }
      ]
    },
    {
      "cell_type": "code",
      "source": [
        "df.info()\n"
      ],
      "metadata": {
        "colab": {
          "base_uri": "https://localhost:8080/"
        },
        "id": "Ds_g-H3HwD4Z",
        "outputId": "1f279969-22ef-4507-a1c5-1da18c4c33c6"
      },
      "execution_count": 10,
      "outputs": [
        {
          "output_type": "stream",
          "name": "stdout",
          "text": [
            "<class 'pandas.core.frame.DataFrame'>\n",
            "RangeIndex: 8336 entries, 0 to 8335\n",
            "Data columns (total 13 columns):\n",
            " #   Column          Non-Null Count  Dtype  \n",
            "---  ------          --------------  -----  \n",
            " 0   EmployeeNumber  8336 non-null   int64  \n",
            " 1   Surname         8336 non-null   object \n",
            " 2   GivenName       8336 non-null   object \n",
            " 3   Gender          8336 non-null   object \n",
            " 4   City            8336 non-null   object \n",
            " 5   JobTitle        8336 non-null   object \n",
            " 6   DepartmentName  8336 non-null   object \n",
            " 7   StoreLocation   8336 non-null   object \n",
            " 8   Division        8336 non-null   object \n",
            " 9   BusinessUnit    8336 non-null   object \n",
            " 10  Age             8336 non-null   int64  \n",
            " 11  LengthService   8336 non-null   int64  \n",
            " 12  AbsentHours     8336 non-null   float64\n",
            "dtypes: float64(1), int64(3), object(9)\n",
            "memory usage: 846.8+ KB\n"
          ]
        }
      ]
    },
    {
      "cell_type": "code",
      "source": [
        "df.describe()"
      ],
      "metadata": {
        "colab": {
          "base_uri": "https://localhost:8080/",
          "height": 300
        },
        "id": "xiBqN2q3FHSh",
        "outputId": "d1fb1082-1c4e-479d-aee8-2985c60babae"
      },
      "execution_count": 6,
      "outputs": [
        {
          "output_type": "execute_result",
          "data": {
            "text/plain": [
              "       EmployeeNumber          Age  LengthService  AbsentHours\n",
              "count     8336.000000  8336.000000    8336.000000  8336.000000\n",
              "mean      4168.500000    41.502039       4.281310    61.283978\n",
              "std       2406.540255     9.948626       2.477186    49.038365\n",
              "min          1.000000     3.000000       0.000000     0.000000\n",
              "25%       2084.750000    35.000000       3.000000    19.127590\n",
              "50%       4168.500000    42.000000       4.000000    56.005808\n",
              "75%       6252.250000    48.000000       5.000000    94.284692\n",
              "max       8336.000000    77.000000      43.000000   272.530123"
            ],
            "text/html": [
              "\n",
              "  <div id=\"df-b2e8fbb8-9099-442f-86ed-8996a979d405\" class=\"colab-df-container\">\n",
              "    <div>\n",
              "<style scoped>\n",
              "    .dataframe tbody tr th:only-of-type {\n",
              "        vertical-align: middle;\n",
              "    }\n",
              "\n",
              "    .dataframe tbody tr th {\n",
              "        vertical-align: top;\n",
              "    }\n",
              "\n",
              "    .dataframe thead th {\n",
              "        text-align: right;\n",
              "    }\n",
              "</style>\n",
              "<table border=\"1\" class=\"dataframe\">\n",
              "  <thead>\n",
              "    <tr style=\"text-align: right;\">\n",
              "      <th></th>\n",
              "      <th>EmployeeNumber</th>\n",
              "      <th>Age</th>\n",
              "      <th>LengthService</th>\n",
              "      <th>AbsentHours</th>\n",
              "    </tr>\n",
              "  </thead>\n",
              "  <tbody>\n",
              "    <tr>\n",
              "      <th>count</th>\n",
              "      <td>8336.000000</td>\n",
              "      <td>8336.000000</td>\n",
              "      <td>8336.000000</td>\n",
              "      <td>8336.000000</td>\n",
              "    </tr>\n",
              "    <tr>\n",
              "      <th>mean</th>\n",
              "      <td>4168.500000</td>\n",
              "      <td>41.502039</td>\n",
              "      <td>4.281310</td>\n",
              "      <td>61.283978</td>\n",
              "    </tr>\n",
              "    <tr>\n",
              "      <th>std</th>\n",
              "      <td>2406.540255</td>\n",
              "      <td>9.948626</td>\n",
              "      <td>2.477186</td>\n",
              "      <td>49.038365</td>\n",
              "    </tr>\n",
              "    <tr>\n",
              "      <th>min</th>\n",
              "      <td>1.000000</td>\n",
              "      <td>3.000000</td>\n",
              "      <td>0.000000</td>\n",
              "      <td>0.000000</td>\n",
              "    </tr>\n",
              "    <tr>\n",
              "      <th>25%</th>\n",
              "      <td>2084.750000</td>\n",
              "      <td>35.000000</td>\n",
              "      <td>3.000000</td>\n",
              "      <td>19.127590</td>\n",
              "    </tr>\n",
              "    <tr>\n",
              "      <th>50%</th>\n",
              "      <td>4168.500000</td>\n",
              "      <td>42.000000</td>\n",
              "      <td>4.000000</td>\n",
              "      <td>56.005808</td>\n",
              "    </tr>\n",
              "    <tr>\n",
              "      <th>75%</th>\n",
              "      <td>6252.250000</td>\n",
              "      <td>48.000000</td>\n",
              "      <td>5.000000</td>\n",
              "      <td>94.284692</td>\n",
              "    </tr>\n",
              "    <tr>\n",
              "      <th>max</th>\n",
              "      <td>8336.000000</td>\n",
              "      <td>77.000000</td>\n",
              "      <td>43.000000</td>\n",
              "      <td>272.530123</td>\n",
              "    </tr>\n",
              "  </tbody>\n",
              "</table>\n",
              "</div>\n",
              "    <div class=\"colab-df-buttons\">\n",
              "\n",
              "  <div class=\"colab-df-container\">\n",
              "    <button class=\"colab-df-convert\" onclick=\"convertToInteractive('df-b2e8fbb8-9099-442f-86ed-8996a979d405')\"\n",
              "            title=\"Convert this dataframe to an interactive table.\"\n",
              "            style=\"display:none;\">\n",
              "\n",
              "  <svg xmlns=\"http://www.w3.org/2000/svg\" height=\"24px\" viewBox=\"0 -960 960 960\">\n",
              "    <path d=\"M120-120v-720h720v720H120Zm60-500h600v-160H180v160Zm220 220h160v-160H400v160Zm0 220h160v-160H400v160ZM180-400h160v-160H180v160Zm440 0h160v-160H620v160ZM180-180h160v-160H180v160Zm440 0h160v-160H620v160Z\"/>\n",
              "  </svg>\n",
              "    </button>\n",
              "\n",
              "  <style>\n",
              "    .colab-df-container {\n",
              "      display:flex;\n",
              "      gap: 12px;\n",
              "    }\n",
              "\n",
              "    .colab-df-convert {\n",
              "      background-color: #E8F0FE;\n",
              "      border: none;\n",
              "      border-radius: 50%;\n",
              "      cursor: pointer;\n",
              "      display: none;\n",
              "      fill: #1967D2;\n",
              "      height: 32px;\n",
              "      padding: 0 0 0 0;\n",
              "      width: 32px;\n",
              "    }\n",
              "\n",
              "    .colab-df-convert:hover {\n",
              "      background-color: #E2EBFA;\n",
              "      box-shadow: 0px 1px 2px rgba(60, 64, 67, 0.3), 0px 1px 3px 1px rgba(60, 64, 67, 0.15);\n",
              "      fill: #174EA6;\n",
              "    }\n",
              "\n",
              "    .colab-df-buttons div {\n",
              "      margin-bottom: 4px;\n",
              "    }\n",
              "\n",
              "    [theme=dark] .colab-df-convert {\n",
              "      background-color: #3B4455;\n",
              "      fill: #D2E3FC;\n",
              "    }\n",
              "\n",
              "    [theme=dark] .colab-df-convert:hover {\n",
              "      background-color: #434B5C;\n",
              "      box-shadow: 0px 1px 3px 1px rgba(0, 0, 0, 0.15);\n",
              "      filter: drop-shadow(0px 1px 2px rgba(0, 0, 0, 0.3));\n",
              "      fill: #FFFFFF;\n",
              "    }\n",
              "  </style>\n",
              "\n",
              "    <script>\n",
              "      const buttonEl =\n",
              "        document.querySelector('#df-b2e8fbb8-9099-442f-86ed-8996a979d405 button.colab-df-convert');\n",
              "      buttonEl.style.display =\n",
              "        google.colab.kernel.accessAllowed ? 'block' : 'none';\n",
              "\n",
              "      async function convertToInteractive(key) {\n",
              "        const element = document.querySelector('#df-b2e8fbb8-9099-442f-86ed-8996a979d405');\n",
              "        const dataTable =\n",
              "          await google.colab.kernel.invokeFunction('convertToInteractive',\n",
              "                                                    [key], {});\n",
              "        if (!dataTable) return;\n",
              "\n",
              "        const docLinkHtml = 'Like what you see? Visit the ' +\n",
              "          '<a target=\"_blank\" href=https://colab.research.google.com/notebooks/data_table.ipynb>data table notebook</a>'\n",
              "          + ' to learn more about interactive tables.';\n",
              "        element.innerHTML = '';\n",
              "        dataTable['output_type'] = 'display_data';\n",
              "        await google.colab.output.renderOutput(dataTable, element);\n",
              "        const docLink = document.createElement('div');\n",
              "        docLink.innerHTML = docLinkHtml;\n",
              "        element.appendChild(docLink);\n",
              "      }\n",
              "    </script>\n",
              "  </div>\n",
              "\n",
              "\n",
              "<div id=\"df-e4dae051-b19a-40ee-8c6a-ec1c112abef8\">\n",
              "  <button class=\"colab-df-quickchart\" onclick=\"quickchart('df-e4dae051-b19a-40ee-8c6a-ec1c112abef8')\"\n",
              "            title=\"Suggest charts\"\n",
              "            style=\"display:none;\">\n",
              "\n",
              "<svg xmlns=\"http://www.w3.org/2000/svg\" height=\"24px\"viewBox=\"0 0 24 24\"\n",
              "     width=\"24px\">\n",
              "    <g>\n",
              "        <path d=\"M19 3H5c-1.1 0-2 .9-2 2v14c0 1.1.9 2 2 2h14c1.1 0 2-.9 2-2V5c0-1.1-.9-2-2-2zM9 17H7v-7h2v7zm4 0h-2V7h2v10zm4 0h-2v-4h2v4z\"/>\n",
              "    </g>\n",
              "</svg>\n",
              "  </button>\n",
              "\n",
              "<style>\n",
              "  .colab-df-quickchart {\n",
              "      --bg-color: #E8F0FE;\n",
              "      --fill-color: #1967D2;\n",
              "      --hover-bg-color: #E2EBFA;\n",
              "      --hover-fill-color: #174EA6;\n",
              "      --disabled-fill-color: #AAA;\n",
              "      --disabled-bg-color: #DDD;\n",
              "  }\n",
              "\n",
              "  [theme=dark] .colab-df-quickchart {\n",
              "      --bg-color: #3B4455;\n",
              "      --fill-color: #D2E3FC;\n",
              "      --hover-bg-color: #434B5C;\n",
              "      --hover-fill-color: #FFFFFF;\n",
              "      --disabled-bg-color: #3B4455;\n",
              "      --disabled-fill-color: #666;\n",
              "  }\n",
              "\n",
              "  .colab-df-quickchart {\n",
              "    background-color: var(--bg-color);\n",
              "    border: none;\n",
              "    border-radius: 50%;\n",
              "    cursor: pointer;\n",
              "    display: none;\n",
              "    fill: var(--fill-color);\n",
              "    height: 32px;\n",
              "    padding: 0;\n",
              "    width: 32px;\n",
              "  }\n",
              "\n",
              "  .colab-df-quickchart:hover {\n",
              "    background-color: var(--hover-bg-color);\n",
              "    box-shadow: 0 1px 2px rgba(60, 64, 67, 0.3), 0 1px 3px 1px rgba(60, 64, 67, 0.15);\n",
              "    fill: var(--button-hover-fill-color);\n",
              "  }\n",
              "\n",
              "  .colab-df-quickchart-complete:disabled,\n",
              "  .colab-df-quickchart-complete:disabled:hover {\n",
              "    background-color: var(--disabled-bg-color);\n",
              "    fill: var(--disabled-fill-color);\n",
              "    box-shadow: none;\n",
              "  }\n",
              "\n",
              "  .colab-df-spinner {\n",
              "    border: 2px solid var(--fill-color);\n",
              "    border-color: transparent;\n",
              "    border-bottom-color: var(--fill-color);\n",
              "    animation:\n",
              "      spin 1s steps(1) infinite;\n",
              "  }\n",
              "\n",
              "  @keyframes spin {\n",
              "    0% {\n",
              "      border-color: transparent;\n",
              "      border-bottom-color: var(--fill-color);\n",
              "      border-left-color: var(--fill-color);\n",
              "    }\n",
              "    20% {\n",
              "      border-color: transparent;\n",
              "      border-left-color: var(--fill-color);\n",
              "      border-top-color: var(--fill-color);\n",
              "    }\n",
              "    30% {\n",
              "      border-color: transparent;\n",
              "      border-left-color: var(--fill-color);\n",
              "      border-top-color: var(--fill-color);\n",
              "      border-right-color: var(--fill-color);\n",
              "    }\n",
              "    40% {\n",
              "      border-color: transparent;\n",
              "      border-right-color: var(--fill-color);\n",
              "      border-top-color: var(--fill-color);\n",
              "    }\n",
              "    60% {\n",
              "      border-color: transparent;\n",
              "      border-right-color: var(--fill-color);\n",
              "    }\n",
              "    80% {\n",
              "      border-color: transparent;\n",
              "      border-right-color: var(--fill-color);\n",
              "      border-bottom-color: var(--fill-color);\n",
              "    }\n",
              "    90% {\n",
              "      border-color: transparent;\n",
              "      border-bottom-color: var(--fill-color);\n",
              "    }\n",
              "  }\n",
              "</style>\n",
              "\n",
              "  <script>\n",
              "    async function quickchart(key) {\n",
              "      const quickchartButtonEl =\n",
              "        document.querySelector('#' + key + ' button');\n",
              "      quickchartButtonEl.disabled = true;  // To prevent multiple clicks.\n",
              "      quickchartButtonEl.classList.add('colab-df-spinner');\n",
              "      try {\n",
              "        const charts = await google.colab.kernel.invokeFunction(\n",
              "            'suggestCharts', [key], {});\n",
              "      } catch (error) {\n",
              "        console.error('Error during call to suggestCharts:', error);\n",
              "      }\n",
              "      quickchartButtonEl.classList.remove('colab-df-spinner');\n",
              "      quickchartButtonEl.classList.add('colab-df-quickchart-complete');\n",
              "    }\n",
              "    (() => {\n",
              "      let quickchartButtonEl =\n",
              "        document.querySelector('#df-e4dae051-b19a-40ee-8c6a-ec1c112abef8 button');\n",
              "      quickchartButtonEl.style.display =\n",
              "        google.colab.kernel.accessAllowed ? 'block' : 'none';\n",
              "    })();\n",
              "  </script>\n",
              "</div>\n",
              "\n",
              "    </div>\n",
              "  </div>\n"
            ],
            "application/vnd.google.colaboratory.intrinsic+json": {
              "type": "dataframe",
              "summary": "{\n  \"name\": \"df\",\n  \"rows\": 8,\n  \"fields\": [\n    {\n      \"column\": \"EmployeeNumber\",\n      \"properties\": {\n        \"dtype\": \"number\",\n        \"std\": 3004.029936775047,\n        \"min\": 1.0,\n        \"max\": 8336.0,\n        \"num_unique_values\": 6,\n        \"samples\": [\n          8336.0,\n          4168.5,\n          6252.25\n        ],\n        \"semantic_type\": \"\",\n        \"description\": \"\"\n      }\n    },\n    {\n      \"column\": \"Age\",\n      \"properties\": {\n        \"dtype\": \"number\",\n        \"std\": 2934.3573728139495,\n        \"min\": 3.0,\n        \"max\": 8336.0,\n        \"num_unique_values\": 8,\n        \"samples\": [\n          41.50203934740883,\n          42.0,\n          8336.0\n        ],\n        \"semantic_type\": \"\",\n        \"description\": \"\"\n      }\n    },\n    {\n      \"column\": \"LengthService\",\n      \"properties\": {\n        \"dtype\": \"number\",\n        \"std\": 2944.1352355339054,\n        \"min\": 0.0,\n        \"max\": 8336.0,\n        \"num_unique_values\": 8,\n        \"samples\": [\n          4.281309980806142,\n          4.0,\n          8336.0\n        ],\n        \"semantic_type\": \"\",\n        \"description\": \"\"\n      }\n    },\n    {\n      \"column\": \"AbsentHours\",\n      \"properties\": {\n        \"dtype\": \"number\",\n        \"std\": 2920.532047709117,\n        \"min\": 0.0,\n        \"max\": 8336.0,\n        \"num_unique_values\": 8,\n        \"samples\": [\n          61.28397768261564,\n          56.005807515,\n          8336.0\n        ],\n        \"semantic_type\": \"\",\n        \"description\": \"\"\n      }\n    }\n  ]\n}"
            }
          },
          "metadata": {},
          "execution_count": 6
        }
      ]
    },
    {
      "cell_type": "code",
      "source": [
        "#create a mapping of unique values in a given field to integers and create new columns of mapped integers\n",
        "def mapper(field, new_field):\n",
        "    keys = field.unique()\n",
        "    dicts = dict(zip(keys, range(len(keys))))\n",
        "    print(dicts)\n",
        "    df[new_field] = field.map(dicts).astype(int)\n",
        "\n",
        "mapper(df.Gender, 'MappedGender')\n",
        "mapper(df.City, 'MappedCity')\n",
        "mapper(df.JobTitle, 'MappedTitle')\n",
        "mapper(df.DepartmentName, 'MappedDept')\n",
        "mapper(df.StoreLocation, 'MappedStoreLoc')\n",
        "mapper(df.Division, 'MappedDivision')"
      ],
      "metadata": {
        "colab": {
          "base_uri": "https://localhost:8080/"
        },
        "id": "sVlChoHmvlOg",
        "outputId": "77979644-0579-40c3-8430-ae0160eab488"
      },
      "execution_count": 11,
      "outputs": [
        {
          "output_type": "stream",
          "name": "stdout",
          "text": [
            "{'F': 0, 'M': 1}\n",
            "{'Burnaby': 0, 'Courtenay': 1, 'Richmond': 2, 'Victoria': 3, 'New Westminster': 4, 'Vancouver': 5, 'Sechelt': 6, 'Kamloops': 7, 'North Vancouver': 8, 'Vananda': 9, 'West Vancouver': 10, 'Nanaimo': 11, 'Aldergrove': 12, 'Kelowna': 13, 'Trail': 14, 'Penticton': 15, 'Duncan': 16, 'Crawford Bay': 17, 'Port Hardy': 18, 'Logan Lake': 19, 'Abbotsford': 20, 'Dawson Creek': 21, 'Surrey': 22, 'Squamish': 23, 'Good Hope Lake': 24, 'Sidney': 25, 'Coquitlam': 26, 'Chilliwack': 27, 'Okanagan Mission': 28, 'Ganges': 29, 'Prince George': 30, 'Atlin': 31, 'Whistler': 32, 'Spences Bridge': 33, 'New Westminister': 34, 'Gibsons': 35, 'Vernon': 36, 'Fauquier': 37, 'Mackenzie': 38, 'Gold Bridge': 39, 'Fort Fraser': 40, 'Nelson': 41, 'Kaslo': 42, 'Creston': 43, 'Wynndel': 44, 'Muncho Lake': 45, 'Kitimat': 46, 'Lac La Hache': 47, 'Armstrong': 48, 'Quesnel': 49, 'Hixon': 50, 'Ocean Falls': 51, 'Vallican': 52, 'North Pender Island': 53, 'Montney': 54, 'Burns Lake': 55, 'Midway': 56, 'Westwold': 57, 'Terrace': 58, 'Golden': 59, 'Port Coquitlam': 60, 'White Rock': 61, 'Summerland': 62, 'Langley': 63, 'Huntingdon': 64, 'Yale': 65, 'Aiyansh': 66, 'Haney': 67, 'Bowen Island': 68, 'Fort Langley': 69, 'Clinton': 70, 'Cassiar': 71, 'Pender Harbour': 72, 'Parksville': 73, 'Mcleese Lake': 74, 'Fort St John': 75, 'Campbell River': 76, 'Wells': 77, 'Manning Park': 78, 'Decker Lake': 79, 'Salmon Arm': 80, 'Sooke': 81, 'Horsefly': 82, 'Invermere': 83, 'Topley': 84, 'Field': 85, 'Youbou': 86, 'Sorrento': 87, 'Merritt': 88, 'Rossland': 89, 'Castlegar': 90, 'Williams Lake': 91, 'Willow Point': 92, 'Woss': 93, 'Cobble Hill': 94, 'Bob Quinn Lake': 95, 'Hedley': 96, 'Sardis': 97, 'Sparwood': 98, 'Port Mcneill': 99, 'Salmon Valley': 100, 'Agassiz': 101, 'Avola': 102, 'Bear Lake': 103, 'Brackendale': 104, 'Skookumchuck': 105, 'Cranbrook': 106, 'Britannia Beach': 107, 'Comox': 108, 'Flatrock': 109, 'Princeton': 110, 'Fort Nelson': 111, 'Slocan': 112, 'Lumby': 113, 'Chase': 114, 'Boston Bar': 115, 'Port Alberni': 116, 'Union Bay': 117, 'Francois Lake': 118, 'Chief Lake': 119, 'Beaver Valley': 120, 'Oyster River': 121, \"D'arcy\": 122, 'Winfield': 123, 'Valemount': 124, 'Port Alice': 125, 'Lakeview Heights': 126, 'Canal Flats': 127, 'Tofino': 128, 'Mayne Island': 129, 'Bamfield': 130, 'Chilako River': 131, 'Grasmere': 132, 'Clearwater': 133, 'Osoyoos': 134, 'Grassy Plains': 135, 'Fulford Harbour': 136, 'Keremeos': 137, 'Fort St James': 138, 'Pitt Meadows': 139, 'Lakelse Lake': 140, 'Genelle': 141, 'Iskut': 142, 'Qualicum Beach': 143, 'Oyama': 144, 'Lillooet': 145, 'Ladysmith': 146, 'Chemainus': 147, 'Douglas Lake': 148, 'Yarrow': 149, 'Elkford': 150, 'Telegraph Creek': 151, 'Mission': 152, 'Fruitvale': 153, 'Vanderhoof': 154, 'Powell River': 155, 'Pemberton': 156, 'Tumbler Ridge': 157, 'Chilanko Forks': 158, 'Ashcroft': 159, 'Klemtu': 160, 'Cumberland': 161, 'Port Mellon': 162, 'Cortes Island': 163, 'Jaffray': 164, 'Black Point': 165, 'Forest Grove': 166, 'Grand Forks': 167, 'Hazelton': 168, 'Chetwynd': 169, 'Riske Creek': 170, 'Nakusp': 171, 'Rutland': 172, 'Bouchie Lake': 173, 'Greenwood': 174, 'Westbank': 175, 'Houston': 176, 'Gabriola Island': 177, 'Port Renfrew': 178, 'Wildwood': 179, 'Port Edward': 180, 'Balfour': 181, 'Pritchard': 182, 'Nimpo Lake': 183, 'Black Pool': 184, 'Vavenby': 185, 'Oliver': 186, 'Hemlock Valley': 187, 'Bella Bella': 188, 'Alexis Creek': 189, 'Parson': 190, 'Fraser Lake': 191, 'Seton Portage': 192, 'Rock Creek': 193, 'Kimberley': 194, 'Mcbride': 195, 'Peachland': 196, 'Dragon Lake': 197, 'Tappen': 198, 'Taylor': 199, 'Salmo': 200, 'Hansard': 201, 'Dease Lake': 202, 'Giscome': 203, 'Granisle': 204, 'Ucluelet': 205, 'Blue River': 206, 'Kitwanga': 207, 'Mica Creek': 208, 'Fernie': 209, 'Pouce Coupe': 210, 'Rosedale': 211, 'Bougie Creek': 212, 'Bridge Lake': 213, 'Lake Cowichan': 214, 'Revelstoke': 215, 'Tatla Lake': 216, 'Enderby': 217, 'Hope': 218, 'Radium Hot Springs': 219, 'Sayward': 220, 'Lower Post': 221, 'South Slocan': 222, 'Yahk': 223, 'Elko': 224, 'Christina Lake': 225, 'Cluculz Lake': 226, 'Toad River': 227, 'Celista': 228, 'Smithers': 229, 'Little Fort': 230, 'Sandspit': 231, 'Quadra Island': 232, 'Blueberry': 233, 'Okanagan Falls': 234, 'Cache Creek': 235, 'Barriere': 236, 'Lytton': 237, 'Sicamous': 238, 'Likely': 239, 'Fairmont Hot Springs': 240, 'Alkali Lake': 241, 'Spillimacheen': 242}\n",
            "{'Baker': 0, 'Accounting Clerk': 1, 'Accounts Payable Clerk': 2, 'Accounts Receiveable Clerk': 3, 'Auditor': 4, 'Bakery Manager': 5, 'Benefits Admin': 6, 'Cashier': 7, 'Compensation Analyst': 8, 'HRIS Analyst': 9, 'Investment Analyst': 10, 'Labor Relations Analyst': 11, 'Recruiter': 12, 'Dairy Person': 13, 'Systems Analyst': 14, 'Trainer': 15, 'Meat Cutter': 16, 'CEO': 17, 'VP Stores': 18, 'Legal Counsel': 19, 'VP Human Resources': 20, 'VP Finance': 21, 'Exec Assistant, VP Stores': 22, 'Exec Assistant, Human Resources': 23, 'Exec Assistant, Legal Counsel': 24, 'CHief Information Officer': 25, 'Store Manager': 26, 'Meats Manager': 27, 'Exec Assistant, Finance': 28, 'Director, Recruitment': 29, 'Director, Training': 30, 'Director, Labor Relations': 31, 'Director, HR Technology': 32, 'Director, Employee Records': 33, 'Director, Compensation': 34, 'Corporate Lawyer': 35, 'Produce Manager': 36, 'Director, Accounts Receivable': 37, 'Director, Accounts Payable': 38, 'Director, Audit': 39, 'Director, Accounting': 40, 'Director, Investments': 41, 'Processed Foods Manager': 42, 'Customer Service Manager': 43, 'Dairy Manager': 44, 'Produce Clerk': 45, 'Shelf Stocker': 46}\n",
            "{'Bakery': 0, 'Accounting': 1, 'Accounts Payable': 2, 'Accounts Receiveable': 3, 'Audit': 4, 'Employee Records': 5, 'Customer Service': 6, 'Compensation': 7, 'HR Technology': 8, 'Investment': 9, 'Labor Relations': 10, 'Recruitment': 11, 'Dairy': 12, 'Information Technology': 13, 'Training': 14, 'Meats': 15, 'Executive': 16, 'Store Management': 17, 'Legal': 18, 'Produce': 19, 'Processed Foods': 20}\n",
            "{'Burnaby': 0, 'Nanaimo': 1, 'Richmond': 2, 'Victoria': 3, 'New Westminster': 4, 'Vancouver': 5, 'West Vancouver': 6, 'Kamloops': 7, 'North Vancouver': 8, 'Aldergrove': 9, 'Kelowna': 10, 'Trail': 11, 'Quesnel': 12, 'Cranbrook': 13, 'Abbotsford': 14, 'Dawson Creek': 15, 'Surrey': 16, 'Squamish': 17, 'Terrace': 18, 'Chilliwack': 19, 'Prince George': 20, 'New Westminister': 21, 'Vernon': 22, 'Nelson': 23, 'Fort St John': 24, 'Williams Lake': 25, 'Ocean Falls': 26, 'Port Coquitlam': 27, 'White Rock': 28, 'Langley': 29, 'Haney': 30, 'Princeton': 31, 'Fort Nelson': 32, 'Valemount': 33, 'Pitt Meadows': 34, 'Bella Bella': 35, 'Cortes Island': 36, 'Grand Forks': 37, 'Dease Lake': 38, 'Blue River': 39}\n",
            "{'Stores': 0, 'FinanceAndAccounting': 1, 'HumanResources': 2, 'InfoTech': 3, 'Executive': 4, 'Legal': 5}\n"
          ]
        }
      ]
    },
    {
      "cell_type": "markdown",
      "source": [
        "Regression Analysis"
      ],
      "metadata": {
        "id": "hXCv8_--HHiE"
      }
    },
    {
      "cell_type": "code",
      "source": [
        "print(df.columns)"
      ],
      "metadata": {
        "colab": {
          "base_uri": "https://localhost:8080/"
        },
        "id": "ygsfAvk28ybM",
        "outputId": "73816031-1318-449b-f2c3-0044bc02ec85"
      },
      "execution_count": 12,
      "outputs": [
        {
          "output_type": "stream",
          "name": "stdout",
          "text": [
            "Index(['EmployeeNumber', 'Surname', 'GivenName', 'Gender', 'City', 'JobTitle',\n",
            "       'DepartmentName', 'StoreLocation', 'Division', 'BusinessUnit', 'Age',\n",
            "       'LengthService', 'AbsentHours', 'MappedGender', 'MappedCity',\n",
            "       'MappedTitle', 'MappedDept', 'MappedStoreLoc', 'MappedDivision'],\n",
            "      dtype='object')\n"
          ]
        }
      ]
    },
    {
      "cell_type": "code",
      "source": [
        "num_feat = list(df.drop(columns=[\"Surname\",\"GivenName\",\"Gender\",\"City\",\"JobTitle\",\"DepartmentName\",\"StoreLocation\",\"Division\",\"BusinessUnit\"]))\n",
        "num_feat"
      ],
      "metadata": {
        "colab": {
          "base_uri": "https://localhost:8080/"
        },
        "id": "XPgKrsxwHNhg",
        "outputId": "ec13a0e0-4797-47e2-91a9-79bf94a3571b"
      },
      "execution_count": 15,
      "outputs": [
        {
          "output_type": "execute_result",
          "data": {
            "text/plain": [
              "['EmployeeNumber',\n",
              " 'Age',\n",
              " 'LengthService',\n",
              " 'AbsentHours',\n",
              " 'MappedGender',\n",
              " 'MappedCity',\n",
              " 'MappedTitle',\n",
              " 'MappedDept',\n",
              " 'MappedStoreLoc',\n",
              " 'MappedDivision']"
            ]
          },
          "metadata": {},
          "execution_count": 15
        }
      ]
    },
    {
      "cell_type": "markdown",
      "source": [
        "Test for Normal Distribution"
      ],
      "metadata": {
        "id": "ts90veeyKlRN"
      }
    },
    {
      "cell_type": "code",
      "source": [
        "from scipy.stats import normaltest\n"
      ],
      "metadata": {
        "id": "kOndzFbrKMtd"
      },
      "execution_count": 16,
      "outputs": []
    },
    {
      "cell_type": "code",
      "source": [
        "for i in num_feat:\n",
        "  stats, pval=normaltest(df[i])\n",
        "  if pval > 0.05:\n",
        "    print(i,': Normal Distributed')\n",
        "  else:\n",
        "    print(i,': Not Normal Distributed')"
      ],
      "metadata": {
        "colab": {
          "base_uri": "https://localhost:8080/"
        },
        "id": "NLgQptzULD-M",
        "outputId": "04a94c92-460b-4456-a404-042437cd01ee"
      },
      "execution_count": 17,
      "outputs": [
        {
          "output_type": "stream",
          "name": "stdout",
          "text": [
            "EmployeeNumber : Not Normal Distributed\n",
            "Age : Normal Distributed\n",
            "LengthService : Not Normal Distributed\n",
            "AbsentHours : Not Normal Distributed\n",
            "MappedGender : Not Normal Distributed\n",
            "MappedCity : Not Normal Distributed\n",
            "MappedTitle : Not Normal Distributed\n",
            "MappedDept : Not Normal Distributed\n",
            "MappedStoreLoc : Not Normal Distributed\n",
            "MappedDivision : Not Normal Distributed\n"
          ]
        }
      ]
    },
    {
      "cell_type": "markdown",
      "source": [
        "Defining Y and X"
      ],
      "metadata": {
        "id": "P_UdyxJALTAq"
      }
    },
    {
      "cell_type": "code",
      "source": [
        "y = df[\"AbsentHours\"]\n",
        "y"
      ],
      "metadata": {
        "colab": {
          "base_uri": "https://localhost:8080/"
        },
        "id": "ucC6WwTK7rdj",
        "outputId": "01315dfc-5eee-4c59-82ce-efa5d9197972"
      },
      "execution_count": 19,
      "outputs": [
        {
          "output_type": "execute_result",
          "data": {
            "text/plain": [
              "0        36.577306\n",
              "1        30.165072\n",
              "2        83.807798\n",
              "3        70.020165\n",
              "4         0.000000\n",
              "           ...    \n",
              "8331     93.665111\n",
              "8332      0.000000\n",
              "8333    176.356940\n",
              "8334     60.321917\n",
              "8335    112.023389\n",
              "Name: AbsentHours, Length: 8336, dtype: float64"
            ]
          },
          "metadata": {},
          "execution_count": 19
        }
      ]
    },
    {
      "cell_type": "code",
      "source": [
        "x = df.drop(columns=[\"EmployeeNumber\",\"Surname\",\"GivenName\",\"Gender\",\"City\",\"JobTitle\",\"DepartmentName\",\"StoreLocation\",\"Division\",\"BusinessUnit\",\"AbsentHours\"])\n",
        "x"
      ],
      "metadata": {
        "colab": {
          "base_uri": "https://localhost:8080/",
          "height": 424
        },
        "id": "iP6EDfBQLY39",
        "outputId": "66c5160b-c3d8-4a5f-adcf-ed926b8b9559"
      },
      "execution_count": 25,
      "outputs": [
        {
          "output_type": "execute_result",
          "data": {
            "text/plain": [
              "      Age  LengthService  MappedGender  MappedCity  MappedTitle  MappedDept  \\\n",
              "0      32              6             0           0            0           0   \n",
              "1      40              5             1           1            0           0   \n",
              "2      48              4             1           2            0           0   \n",
              "3      44              3             0           3            0           0   \n",
              "4      35              3             1           4            0           0   \n",
              "...   ...            ...           ...         ...          ...         ...   \n",
              "8331   46              4             0          63            7           6   \n",
              "8332   34              2             1          54            7           6   \n",
              "8333   58              4             0          10            7           6   \n",
              "8334   43              6             0           5           13          12   \n",
              "8335   46              5             1           5           13          12   \n",
              "\n",
              "      MappedStoreLoc  MappedDivision  \n",
              "0                  0               0  \n",
              "1                  1               0  \n",
              "2                  2               0  \n",
              "3                  3               0  \n",
              "4                  4               0  \n",
              "...              ...             ...  \n",
              "8331              29               0  \n",
              "8332              24               0  \n",
              "8333               6               0  \n",
              "8334               5               0  \n",
              "8335               5               0  \n",
              "\n",
              "[8336 rows x 8 columns]"
            ],
            "text/html": [
              "\n",
              "  <div id=\"df-6bf78c45-fcd4-4605-8ac7-904db03bef61\" class=\"colab-df-container\">\n",
              "    <div>\n",
              "<style scoped>\n",
              "    .dataframe tbody tr th:only-of-type {\n",
              "        vertical-align: middle;\n",
              "    }\n",
              "\n",
              "    .dataframe tbody tr th {\n",
              "        vertical-align: top;\n",
              "    }\n",
              "\n",
              "    .dataframe thead th {\n",
              "        text-align: right;\n",
              "    }\n",
              "</style>\n",
              "<table border=\"1\" class=\"dataframe\">\n",
              "  <thead>\n",
              "    <tr style=\"text-align: right;\">\n",
              "      <th></th>\n",
              "      <th>Age</th>\n",
              "      <th>LengthService</th>\n",
              "      <th>MappedGender</th>\n",
              "      <th>MappedCity</th>\n",
              "      <th>MappedTitle</th>\n",
              "      <th>MappedDept</th>\n",
              "      <th>MappedStoreLoc</th>\n",
              "      <th>MappedDivision</th>\n",
              "    </tr>\n",
              "  </thead>\n",
              "  <tbody>\n",
              "    <tr>\n",
              "      <th>0</th>\n",
              "      <td>32</td>\n",
              "      <td>6</td>\n",
              "      <td>0</td>\n",
              "      <td>0</td>\n",
              "      <td>0</td>\n",
              "      <td>0</td>\n",
              "      <td>0</td>\n",
              "      <td>0</td>\n",
              "    </tr>\n",
              "    <tr>\n",
              "      <th>1</th>\n",
              "      <td>40</td>\n",
              "      <td>5</td>\n",
              "      <td>1</td>\n",
              "      <td>1</td>\n",
              "      <td>0</td>\n",
              "      <td>0</td>\n",
              "      <td>1</td>\n",
              "      <td>0</td>\n",
              "    </tr>\n",
              "    <tr>\n",
              "      <th>2</th>\n",
              "      <td>48</td>\n",
              "      <td>4</td>\n",
              "      <td>1</td>\n",
              "      <td>2</td>\n",
              "      <td>0</td>\n",
              "      <td>0</td>\n",
              "      <td>2</td>\n",
              "      <td>0</td>\n",
              "    </tr>\n",
              "    <tr>\n",
              "      <th>3</th>\n",
              "      <td>44</td>\n",
              "      <td>3</td>\n",
              "      <td>0</td>\n",
              "      <td>3</td>\n",
              "      <td>0</td>\n",
              "      <td>0</td>\n",
              "      <td>3</td>\n",
              "      <td>0</td>\n",
              "    </tr>\n",
              "    <tr>\n",
              "      <th>4</th>\n",
              "      <td>35</td>\n",
              "      <td>3</td>\n",
              "      <td>1</td>\n",
              "      <td>4</td>\n",
              "      <td>0</td>\n",
              "      <td>0</td>\n",
              "      <td>4</td>\n",
              "      <td>0</td>\n",
              "    </tr>\n",
              "    <tr>\n",
              "      <th>...</th>\n",
              "      <td>...</td>\n",
              "      <td>...</td>\n",
              "      <td>...</td>\n",
              "      <td>...</td>\n",
              "      <td>...</td>\n",
              "      <td>...</td>\n",
              "      <td>...</td>\n",
              "      <td>...</td>\n",
              "    </tr>\n",
              "    <tr>\n",
              "      <th>8331</th>\n",
              "      <td>46</td>\n",
              "      <td>4</td>\n",
              "      <td>0</td>\n",
              "      <td>63</td>\n",
              "      <td>7</td>\n",
              "      <td>6</td>\n",
              "      <td>29</td>\n",
              "      <td>0</td>\n",
              "    </tr>\n",
              "    <tr>\n",
              "      <th>8332</th>\n",
              "      <td>34</td>\n",
              "      <td>2</td>\n",
              "      <td>1</td>\n",
              "      <td>54</td>\n",
              "      <td>7</td>\n",
              "      <td>6</td>\n",
              "      <td>24</td>\n",
              "      <td>0</td>\n",
              "    </tr>\n",
              "    <tr>\n",
              "      <th>8333</th>\n",
              "      <td>58</td>\n",
              "      <td>4</td>\n",
              "      <td>0</td>\n",
              "      <td>10</td>\n",
              "      <td>7</td>\n",
              "      <td>6</td>\n",
              "      <td>6</td>\n",
              "      <td>0</td>\n",
              "    </tr>\n",
              "    <tr>\n",
              "      <th>8334</th>\n",
              "      <td>43</td>\n",
              "      <td>6</td>\n",
              "      <td>0</td>\n",
              "      <td>5</td>\n",
              "      <td>13</td>\n",
              "      <td>12</td>\n",
              "      <td>5</td>\n",
              "      <td>0</td>\n",
              "    </tr>\n",
              "    <tr>\n",
              "      <th>8335</th>\n",
              "      <td>46</td>\n",
              "      <td>5</td>\n",
              "      <td>1</td>\n",
              "      <td>5</td>\n",
              "      <td>13</td>\n",
              "      <td>12</td>\n",
              "      <td>5</td>\n",
              "      <td>0</td>\n",
              "    </tr>\n",
              "  </tbody>\n",
              "</table>\n",
              "<p>8336 rows × 8 columns</p>\n",
              "</div>\n",
              "    <div class=\"colab-df-buttons\">\n",
              "\n",
              "  <div class=\"colab-df-container\">\n",
              "    <button class=\"colab-df-convert\" onclick=\"convertToInteractive('df-6bf78c45-fcd4-4605-8ac7-904db03bef61')\"\n",
              "            title=\"Convert this dataframe to an interactive table.\"\n",
              "            style=\"display:none;\">\n",
              "\n",
              "  <svg xmlns=\"http://www.w3.org/2000/svg\" height=\"24px\" viewBox=\"0 -960 960 960\">\n",
              "    <path d=\"M120-120v-720h720v720H120Zm60-500h600v-160H180v160Zm220 220h160v-160H400v160Zm0 220h160v-160H400v160ZM180-400h160v-160H180v160Zm440 0h160v-160H620v160ZM180-180h160v-160H180v160Zm440 0h160v-160H620v160Z\"/>\n",
              "  </svg>\n",
              "    </button>\n",
              "\n",
              "  <style>\n",
              "    .colab-df-container {\n",
              "      display:flex;\n",
              "      gap: 12px;\n",
              "    }\n",
              "\n",
              "    .colab-df-convert {\n",
              "      background-color: #E8F0FE;\n",
              "      border: none;\n",
              "      border-radius: 50%;\n",
              "      cursor: pointer;\n",
              "      display: none;\n",
              "      fill: #1967D2;\n",
              "      height: 32px;\n",
              "      padding: 0 0 0 0;\n",
              "      width: 32px;\n",
              "    }\n",
              "\n",
              "    .colab-df-convert:hover {\n",
              "      background-color: #E2EBFA;\n",
              "      box-shadow: 0px 1px 2px rgba(60, 64, 67, 0.3), 0px 1px 3px 1px rgba(60, 64, 67, 0.15);\n",
              "      fill: #174EA6;\n",
              "    }\n",
              "\n",
              "    .colab-df-buttons div {\n",
              "      margin-bottom: 4px;\n",
              "    }\n",
              "\n",
              "    [theme=dark] .colab-df-convert {\n",
              "      background-color: #3B4455;\n",
              "      fill: #D2E3FC;\n",
              "    }\n",
              "\n",
              "    [theme=dark] .colab-df-convert:hover {\n",
              "      background-color: #434B5C;\n",
              "      box-shadow: 0px 1px 3px 1px rgba(0, 0, 0, 0.15);\n",
              "      filter: drop-shadow(0px 1px 2px rgba(0, 0, 0, 0.3));\n",
              "      fill: #FFFFFF;\n",
              "    }\n",
              "  </style>\n",
              "\n",
              "    <script>\n",
              "      const buttonEl =\n",
              "        document.querySelector('#df-6bf78c45-fcd4-4605-8ac7-904db03bef61 button.colab-df-convert');\n",
              "      buttonEl.style.display =\n",
              "        google.colab.kernel.accessAllowed ? 'block' : 'none';\n",
              "\n",
              "      async function convertToInteractive(key) {\n",
              "        const element = document.querySelector('#df-6bf78c45-fcd4-4605-8ac7-904db03bef61');\n",
              "        const dataTable =\n",
              "          await google.colab.kernel.invokeFunction('convertToInteractive',\n",
              "                                                    [key], {});\n",
              "        if (!dataTable) return;\n",
              "\n",
              "        const docLinkHtml = 'Like what you see? Visit the ' +\n",
              "          '<a target=\"_blank\" href=https://colab.research.google.com/notebooks/data_table.ipynb>data table notebook</a>'\n",
              "          + ' to learn more about interactive tables.';\n",
              "        element.innerHTML = '';\n",
              "        dataTable['output_type'] = 'display_data';\n",
              "        await google.colab.output.renderOutput(dataTable, element);\n",
              "        const docLink = document.createElement('div');\n",
              "        docLink.innerHTML = docLinkHtml;\n",
              "        element.appendChild(docLink);\n",
              "      }\n",
              "    </script>\n",
              "  </div>\n",
              "\n",
              "\n",
              "<div id=\"df-1fbf22c6-02f6-4e99-b317-b9e47b93cd48\">\n",
              "  <button class=\"colab-df-quickchart\" onclick=\"quickchart('df-1fbf22c6-02f6-4e99-b317-b9e47b93cd48')\"\n",
              "            title=\"Suggest charts\"\n",
              "            style=\"display:none;\">\n",
              "\n",
              "<svg xmlns=\"http://www.w3.org/2000/svg\" height=\"24px\"viewBox=\"0 0 24 24\"\n",
              "     width=\"24px\">\n",
              "    <g>\n",
              "        <path d=\"M19 3H5c-1.1 0-2 .9-2 2v14c0 1.1.9 2 2 2h14c1.1 0 2-.9 2-2V5c0-1.1-.9-2-2-2zM9 17H7v-7h2v7zm4 0h-2V7h2v10zm4 0h-2v-4h2v4z\"/>\n",
              "    </g>\n",
              "</svg>\n",
              "  </button>\n",
              "\n",
              "<style>\n",
              "  .colab-df-quickchart {\n",
              "      --bg-color: #E8F0FE;\n",
              "      --fill-color: #1967D2;\n",
              "      --hover-bg-color: #E2EBFA;\n",
              "      --hover-fill-color: #174EA6;\n",
              "      --disabled-fill-color: #AAA;\n",
              "      --disabled-bg-color: #DDD;\n",
              "  }\n",
              "\n",
              "  [theme=dark] .colab-df-quickchart {\n",
              "      --bg-color: #3B4455;\n",
              "      --fill-color: #D2E3FC;\n",
              "      --hover-bg-color: #434B5C;\n",
              "      --hover-fill-color: #FFFFFF;\n",
              "      --disabled-bg-color: #3B4455;\n",
              "      --disabled-fill-color: #666;\n",
              "  }\n",
              "\n",
              "  .colab-df-quickchart {\n",
              "    background-color: var(--bg-color);\n",
              "    border: none;\n",
              "    border-radius: 50%;\n",
              "    cursor: pointer;\n",
              "    display: none;\n",
              "    fill: var(--fill-color);\n",
              "    height: 32px;\n",
              "    padding: 0;\n",
              "    width: 32px;\n",
              "  }\n",
              "\n",
              "  .colab-df-quickchart:hover {\n",
              "    background-color: var(--hover-bg-color);\n",
              "    box-shadow: 0 1px 2px rgba(60, 64, 67, 0.3), 0 1px 3px 1px rgba(60, 64, 67, 0.15);\n",
              "    fill: var(--button-hover-fill-color);\n",
              "  }\n",
              "\n",
              "  .colab-df-quickchart-complete:disabled,\n",
              "  .colab-df-quickchart-complete:disabled:hover {\n",
              "    background-color: var(--disabled-bg-color);\n",
              "    fill: var(--disabled-fill-color);\n",
              "    box-shadow: none;\n",
              "  }\n",
              "\n",
              "  .colab-df-spinner {\n",
              "    border: 2px solid var(--fill-color);\n",
              "    border-color: transparent;\n",
              "    border-bottom-color: var(--fill-color);\n",
              "    animation:\n",
              "      spin 1s steps(1) infinite;\n",
              "  }\n",
              "\n",
              "  @keyframes spin {\n",
              "    0% {\n",
              "      border-color: transparent;\n",
              "      border-bottom-color: var(--fill-color);\n",
              "      border-left-color: var(--fill-color);\n",
              "    }\n",
              "    20% {\n",
              "      border-color: transparent;\n",
              "      border-left-color: var(--fill-color);\n",
              "      border-top-color: var(--fill-color);\n",
              "    }\n",
              "    30% {\n",
              "      border-color: transparent;\n",
              "      border-left-color: var(--fill-color);\n",
              "      border-top-color: var(--fill-color);\n",
              "      border-right-color: var(--fill-color);\n",
              "    }\n",
              "    40% {\n",
              "      border-color: transparent;\n",
              "      border-right-color: var(--fill-color);\n",
              "      border-top-color: var(--fill-color);\n",
              "    }\n",
              "    60% {\n",
              "      border-color: transparent;\n",
              "      border-right-color: var(--fill-color);\n",
              "    }\n",
              "    80% {\n",
              "      border-color: transparent;\n",
              "      border-right-color: var(--fill-color);\n",
              "      border-bottom-color: var(--fill-color);\n",
              "    }\n",
              "    90% {\n",
              "      border-color: transparent;\n",
              "      border-bottom-color: var(--fill-color);\n",
              "    }\n",
              "  }\n",
              "</style>\n",
              "\n",
              "  <script>\n",
              "    async function quickchart(key) {\n",
              "      const quickchartButtonEl =\n",
              "        document.querySelector('#' + key + ' button');\n",
              "      quickchartButtonEl.disabled = true;  // To prevent multiple clicks.\n",
              "      quickchartButtonEl.classList.add('colab-df-spinner');\n",
              "      try {\n",
              "        const charts = await google.colab.kernel.invokeFunction(\n",
              "            'suggestCharts', [key], {});\n",
              "      } catch (error) {\n",
              "        console.error('Error during call to suggestCharts:', error);\n",
              "      }\n",
              "      quickchartButtonEl.classList.remove('colab-df-spinner');\n",
              "      quickchartButtonEl.classList.add('colab-df-quickchart-complete');\n",
              "    }\n",
              "    (() => {\n",
              "      let quickchartButtonEl =\n",
              "        document.querySelector('#df-1fbf22c6-02f6-4e99-b317-b9e47b93cd48 button');\n",
              "      quickchartButtonEl.style.display =\n",
              "        google.colab.kernel.accessAllowed ? 'block' : 'none';\n",
              "    })();\n",
              "  </script>\n",
              "</div>\n",
              "\n",
              "  <div id=\"id_5378be99-aee4-4907-8fa2-cd39aacddbec\">\n",
              "    <style>\n",
              "      .colab-df-generate {\n",
              "        background-color: #E8F0FE;\n",
              "        border: none;\n",
              "        border-radius: 50%;\n",
              "        cursor: pointer;\n",
              "        display: none;\n",
              "        fill: #1967D2;\n",
              "        height: 32px;\n",
              "        padding: 0 0 0 0;\n",
              "        width: 32px;\n",
              "      }\n",
              "\n",
              "      .colab-df-generate:hover {\n",
              "        background-color: #E2EBFA;\n",
              "        box-shadow: 0px 1px 2px rgba(60, 64, 67, 0.3), 0px 1px 3px 1px rgba(60, 64, 67, 0.15);\n",
              "        fill: #174EA6;\n",
              "      }\n",
              "\n",
              "      [theme=dark] .colab-df-generate {\n",
              "        background-color: #3B4455;\n",
              "        fill: #D2E3FC;\n",
              "      }\n",
              "\n",
              "      [theme=dark] .colab-df-generate:hover {\n",
              "        background-color: #434B5C;\n",
              "        box-shadow: 0px 1px 3px 1px rgba(0, 0, 0, 0.15);\n",
              "        filter: drop-shadow(0px 1px 2px rgba(0, 0, 0, 0.3));\n",
              "        fill: #FFFFFF;\n",
              "      }\n",
              "    </style>\n",
              "    <button class=\"colab-df-generate\" onclick=\"generateWithVariable('x')\"\n",
              "            title=\"Generate code using this dataframe.\"\n",
              "            style=\"display:none;\">\n",
              "\n",
              "  <svg xmlns=\"http://www.w3.org/2000/svg\" height=\"24px\"viewBox=\"0 0 24 24\"\n",
              "       width=\"24px\">\n",
              "    <path d=\"M7,19H8.4L18.45,9,17,7.55,7,17.6ZM5,21V16.75L18.45,3.32a2,2,0,0,1,2.83,0l1.4,1.43a1.91,1.91,0,0,1,.58,1.4,1.91,1.91,0,0,1-.58,1.4L9.25,21ZM18.45,9,17,7.55Zm-12,3A5.31,5.31,0,0,0,4.9,8.1,5.31,5.31,0,0,0,1,6.5,5.31,5.31,0,0,0,4.9,4.9,5.31,5.31,0,0,0,6.5,1,5.31,5.31,0,0,0,8.1,4.9,5.31,5.31,0,0,0,12,6.5,5.46,5.46,0,0,0,6.5,12Z\"/>\n",
              "  </svg>\n",
              "    </button>\n",
              "    <script>\n",
              "      (() => {\n",
              "      const buttonEl =\n",
              "        document.querySelector('#id_5378be99-aee4-4907-8fa2-cd39aacddbec button.colab-df-generate');\n",
              "      buttonEl.style.display =\n",
              "        google.colab.kernel.accessAllowed ? 'block' : 'none';\n",
              "\n",
              "      buttonEl.onclick = () => {\n",
              "        google.colab.notebook.generateWithVariable('x');\n",
              "      }\n",
              "      })();\n",
              "    </script>\n",
              "  </div>\n",
              "\n",
              "    </div>\n",
              "  </div>\n"
            ],
            "application/vnd.google.colaboratory.intrinsic+json": {
              "type": "dataframe",
              "variable_name": "x",
              "summary": "{\n  \"name\": \"x\",\n  \"rows\": 8336,\n  \"fields\": [\n    {\n      \"column\": \"Age\",\n      \"properties\": {\n        \"dtype\": \"number\",\n        \"std\": 9,\n        \"min\": 3,\n        \"max\": 77,\n        \"num_unique_values\": 68,\n        \"samples\": [\n          18,\n          51,\n          35\n        ],\n        \"semantic_type\": \"\",\n        \"description\": \"\"\n      }\n    },\n    {\n      \"column\": \"LengthService\",\n      \"properties\": {\n        \"dtype\": \"number\",\n        \"std\": 2,\n        \"min\": 0,\n        \"max\": 43,\n        \"num_unique_values\": 37,\n        \"samples\": [\n          16,\n          20,\n          2\n        ],\n        \"semantic_type\": \"\",\n        \"description\": \"\"\n      }\n    },\n    {\n      \"column\": \"MappedGender\",\n      \"properties\": {\n        \"dtype\": \"number\",\n        \"std\": 0,\n        \"min\": 0,\n        \"max\": 1,\n        \"num_unique_values\": 2,\n        \"samples\": [\n          1,\n          0\n        ],\n        \"semantic_type\": \"\",\n        \"description\": \"\"\n      }\n    },\n    {\n      \"column\": \"MappedCity\",\n      \"properties\": {\n        \"dtype\": \"number\",\n        \"std\": 58,\n        \"min\": 0,\n        \"max\": 242,\n        \"num_unique_values\": 243,\n        \"samples\": [\n          24,\n          6\n        ],\n        \"semantic_type\": \"\",\n        \"description\": \"\"\n      }\n    },\n    {\n      \"column\": \"MappedTitle\",\n      \"properties\": {\n        \"dtype\": \"number\",\n        \"std\": 16,\n        \"min\": 0,\n        \"max\": 46,\n        \"num_unique_values\": 47,\n        \"samples\": [\n          27,\n          39\n        ],\n        \"semantic_type\": \"\",\n        \"description\": \"\"\n      }\n    },\n    {\n      \"column\": \"MappedDept\",\n      \"properties\": {\n        \"dtype\": \"number\",\n        \"std\": 6,\n        \"min\": 0,\n        \"max\": 20,\n        \"num_unique_values\": 21,\n        \"samples\": [\n          0,\n          17\n        ],\n        \"semantic_type\": \"\",\n        \"description\": \"\"\n      }\n    },\n    {\n      \"column\": \"MappedStoreLoc\",\n      \"properties\": {\n        \"dtype\": \"number\",\n        \"std\": 8,\n        \"min\": 0,\n        \"max\": 39,\n        \"num_unique_values\": 40,\n        \"samples\": [\n          19,\n          16\n        ],\n        \"semantic_type\": \"\",\n        \"description\": \"\"\n      }\n    },\n    {\n      \"column\": \"MappedDivision\",\n      \"properties\": {\n        \"dtype\": \"number\",\n        \"std\": 0,\n        \"min\": 0,\n        \"max\": 5,\n        \"num_unique_values\": 6,\n        \"samples\": [\n          0,\n          1\n        ],\n        \"semantic_type\": \"\",\n        \"description\": \"\"\n      }\n    }\n  ]\n}"
            }
          },
          "metadata": {},
          "execution_count": 25
        }
      ]
    },
    {
      "cell_type": "markdown",
      "source": [
        "Standardize the Inputs"
      ],
      "metadata": {
        "id": "R88FU4n4rMur"
      }
    },
    {
      "cell_type": "code",
      "source": [
        "# prompt: standardize the x\n",
        "\n",
        "from sklearn.preprocessing import StandardScaler\n",
        "\n",
        "x = StandardScaler().fit_transform(x)"
      ],
      "metadata": {
        "id": "d6Q61BOsrMPf"
      },
      "execution_count": 27,
      "outputs": []
    },
    {
      "cell_type": "markdown",
      "source": [
        "Training ML model"
      ],
      "metadata": {
        "id": "3jTeYqe-WARc"
      }
    },
    {
      "cell_type": "code",
      "source": [
        "from sklearn.model_selection import train_test_split"
      ],
      "metadata": {
        "id": "YZdQZfkFOhR5"
      },
      "execution_count": 29,
      "outputs": []
    },
    {
      "cell_type": "code",
      "source": [
        "x_train, x_test, y_train, y_test = train_test_split(x, y, test_size=0.2, random_state=42)\n",
        "model = LinearRegression().fit(x_train, y_train)\n"
      ],
      "metadata": {
        "id": "ey1uvoTp1x9A"
      },
      "execution_count": 51,
      "outputs": []
    },
    {
      "cell_type": "code",
      "source": [
        "print(x_train.shape, x_test.shape, y_train.shape, y_test.shape)"
      ],
      "metadata": {
        "colab": {
          "base_uri": "https://localhost:8080/"
        },
        "id": "DclR5isx10L1",
        "outputId": "dc592bb9-8377-4846-e057-98121e38f181"
      },
      "execution_count": 52,
      "outputs": [
        {
          "output_type": "stream",
          "name": "stdout",
          "text": [
            "(6668, 8) (1668, 8) (6668,) (1668,)\n"
          ]
        }
      ]
    },
    {
      "cell_type": "markdown",
      "source": [
        "Run Linear Regression\n"
      ],
      "metadata": {
        "id": "Nzd1-hD8RaK3"
      }
    },
    {
      "cell_type": "code",
      "source": [
        "from sklearn.linear_model import LinearRegression\n",
        "model = LinearRegression()\n",
        "model.fit(x_train, y_train)"
      ],
      "metadata": {
        "colab": {
          "base_uri": "https://localhost:8080/",
          "height": 75
        },
        "id": "nRWeWnvRPCCS",
        "outputId": "cb1d5614-c9b0-4cef-acd5-30f4d74e545e"
      },
      "execution_count": 31,
      "outputs": [
        {
          "output_type": "execute_result",
          "data": {
            "text/plain": [
              "LinearRegression()"
            ],
            "text/html": [
              "<style>#sk-container-id-1 {color: black;background-color: white;}#sk-container-id-1 pre{padding: 0;}#sk-container-id-1 div.sk-toggleable {background-color: white;}#sk-container-id-1 label.sk-toggleable__label {cursor: pointer;display: block;width: 100%;margin-bottom: 0;padding: 0.3em;box-sizing: border-box;text-align: center;}#sk-container-id-1 label.sk-toggleable__label-arrow:before {content: \"▸\";float: left;margin-right: 0.25em;color: #696969;}#sk-container-id-1 label.sk-toggleable__label-arrow:hover:before {color: black;}#sk-container-id-1 div.sk-estimator:hover label.sk-toggleable__label-arrow:before {color: black;}#sk-container-id-1 div.sk-toggleable__content {max-height: 0;max-width: 0;overflow: hidden;text-align: left;background-color: #f0f8ff;}#sk-container-id-1 div.sk-toggleable__content pre {margin: 0.2em;color: black;border-radius: 0.25em;background-color: #f0f8ff;}#sk-container-id-1 input.sk-toggleable__control:checked~div.sk-toggleable__content {max-height: 200px;max-width: 100%;overflow: auto;}#sk-container-id-1 input.sk-toggleable__control:checked~label.sk-toggleable__label-arrow:before {content: \"▾\";}#sk-container-id-1 div.sk-estimator input.sk-toggleable__control:checked~label.sk-toggleable__label {background-color: #d4ebff;}#sk-container-id-1 div.sk-label input.sk-toggleable__control:checked~label.sk-toggleable__label {background-color: #d4ebff;}#sk-container-id-1 input.sk-hidden--visually {border: 0;clip: rect(1px 1px 1px 1px);clip: rect(1px, 1px, 1px, 1px);height: 1px;margin: -1px;overflow: hidden;padding: 0;position: absolute;width: 1px;}#sk-container-id-1 div.sk-estimator {font-family: monospace;background-color: #f0f8ff;border: 1px dotted black;border-radius: 0.25em;box-sizing: border-box;margin-bottom: 0.5em;}#sk-container-id-1 div.sk-estimator:hover {background-color: #d4ebff;}#sk-container-id-1 div.sk-parallel-item::after {content: \"\";width: 100%;border-bottom: 1px solid gray;flex-grow: 1;}#sk-container-id-1 div.sk-label:hover label.sk-toggleable__label {background-color: #d4ebff;}#sk-container-id-1 div.sk-serial::before {content: \"\";position: absolute;border-left: 1px solid gray;box-sizing: border-box;top: 0;bottom: 0;left: 50%;z-index: 0;}#sk-container-id-1 div.sk-serial {display: flex;flex-direction: column;align-items: center;background-color: white;padding-right: 0.2em;padding-left: 0.2em;position: relative;}#sk-container-id-1 div.sk-item {position: relative;z-index: 1;}#sk-container-id-1 div.sk-parallel {display: flex;align-items: stretch;justify-content: center;background-color: white;position: relative;}#sk-container-id-1 div.sk-item::before, #sk-container-id-1 div.sk-parallel-item::before {content: \"\";position: absolute;border-left: 1px solid gray;box-sizing: border-box;top: 0;bottom: 0;left: 50%;z-index: -1;}#sk-container-id-1 div.sk-parallel-item {display: flex;flex-direction: column;z-index: 1;position: relative;background-color: white;}#sk-container-id-1 div.sk-parallel-item:first-child::after {align-self: flex-end;width: 50%;}#sk-container-id-1 div.sk-parallel-item:last-child::after {align-self: flex-start;width: 50%;}#sk-container-id-1 div.sk-parallel-item:only-child::after {width: 0;}#sk-container-id-1 div.sk-dashed-wrapped {border: 1px dashed gray;margin: 0 0.4em 0.5em 0.4em;box-sizing: border-box;padding-bottom: 0.4em;background-color: white;}#sk-container-id-1 div.sk-label label {font-family: monospace;font-weight: bold;display: inline-block;line-height: 1.2em;}#sk-container-id-1 div.sk-label-container {text-align: center;}#sk-container-id-1 div.sk-container {/* jupyter's `normalize.less` sets `[hidden] { display: none; }` but bootstrap.min.css set `[hidden] { display: none !important; }` so we also need the `!important` here to be able to override the default hidden behavior on the sphinx rendered scikit-learn.org. See: https://github.com/scikit-learn/scikit-learn/issues/21755 */display: inline-block !important;position: relative;}#sk-container-id-1 div.sk-text-repr-fallback {display: none;}</style><div id=\"sk-container-id-1\" class=\"sk-top-container\"><div class=\"sk-text-repr-fallback\"><pre>LinearRegression()</pre><b>In a Jupyter environment, please rerun this cell to show the HTML representation or trust the notebook. <br />On GitHub, the HTML representation is unable to render, please try loading this page with nbviewer.org.</b></div><div class=\"sk-container\" hidden><div class=\"sk-item\"><div class=\"sk-estimator sk-toggleable\"><input class=\"sk-toggleable__control sk-hidden--visually\" id=\"sk-estimator-id-1\" type=\"checkbox\" checked><label for=\"sk-estimator-id-1\" class=\"sk-toggleable__label sk-toggleable__label-arrow\">LinearRegression</label><div class=\"sk-toggleable__content\"><pre>LinearRegression()</pre></div></div></div></div></div>"
            ]
          },
          "metadata": {},
          "execution_count": 31
        }
      ]
    },
    {
      "cell_type": "markdown",
      "source": [
        "Showing the R2 Score of the Model"
      ],
      "metadata": {
        "id": "r5HA_yCgdhgD"
      }
    },
    {
      "cell_type": "code",
      "source": [
        "from sklearn.metrics import r2_score\n",
        "\n",
        "y_pred = model.predict(x_test)\n",
        "r2_score = r2_score(y_test, y_pred)\n",
        "print(\"R2 Score:\", r2_score)\n"
      ],
      "metadata": {
        "colab": {
          "base_uri": "https://localhost:8080/"
        },
        "id": "-QIHfe6EZknR",
        "outputId": "00047548-932b-4be7-b681-381a93b4fe3c"
      },
      "execution_count": 53,
      "outputs": [
        {
          "output_type": "stream",
          "name": "stdout",
          "text": [
            "R2 Score: 0.702451175728555\n"
          ]
        }
      ]
    },
    {
      "cell_type": "markdown",
      "source": [
        "Showing the Mean Absolute Error of the Model"
      ],
      "metadata": {
        "id": "s8aATfQIdmen"
      }
    },
    {
      "cell_type": "code",
      "source": [
        "from sklearn.metrics import mean_absolute_error\n",
        "mae = mean_absolute_error(y_test, y_pred)\n",
        "print(\"Mean Absolute Error:\", mae)\n"
      ],
      "metadata": {
        "colab": {
          "base_uri": "https://localhost:8080/"
        },
        "id": "Msr8wY4Cev5V",
        "outputId": "43e44a47-af80-44ef-814f-4f9432782d55"
      },
      "execution_count": 54,
      "outputs": [
        {
          "output_type": "stream",
          "name": "stdout",
          "text": [
            "Mean Absolute Error: 20.274307847052594\n"
          ]
        }
      ]
    },
    {
      "cell_type": "markdown",
      "source": [
        "Showing the Coefficient of the Model"
      ],
      "metadata": {
        "id": "-GM4u_PDWVrb"
      }
    },
    {
      "cell_type": "code",
      "source": [
        "model.coef_"
      ],
      "metadata": {
        "colab": {
          "base_uri": "https://localhost:8080/"
        },
        "id": "bVtH8-UQQEmU",
        "outputId": "3a55a112-832f-4ffd-b0ff-930f0284ebb1"
      },
      "execution_count": 80,
      "outputs": [
        {
          "output_type": "execute_result",
          "data": {
            "text/plain": [
              "array([41.67445105, -2.68548638, -8.21798198,  0.12998078, -0.76348627,\n",
              "        0.71981341, -0.3439691 , -2.43321743])"
            ]
          },
          "metadata": {},
          "execution_count": 80
        }
      ]
    },
    {
      "cell_type": "code",
      "source": [
        "import matplotlib.pyplot as plt\n",
        "import statsmodels.api as sm"
      ],
      "metadata": {
        "id": "rPBkUghFRkri"
      },
      "execution_count": 79,
      "outputs": []
    },
    {
      "cell_type": "markdown",
      "source": [
        "Displaying the Linear Regression Equation of the Model"
      ],
      "metadata": {
        "id": "4oHCbWgFWZcS"
      }
    },
    {
      "cell_type": "code",
      "source": [
        "print(\"Linear Regression Equation:\")\n",
        "for i in range(len(model.coef_)):\n",
        "  print(f\"{model.coef_[i]:.3f} * {num_feat[i]} + \", end=\"\")\n",
        "print(f\"{model.intercept_:.3f}\")\n"
      ],
      "metadata": {
        "colab": {
          "base_uri": "https://localhost:8080/"
        },
        "id": "4YnELWV_Rmhj",
        "outputId": "a8631f54-4a15-4f6f-c0d1-3d047bc922b7"
      },
      "execution_count": 84,
      "outputs": [
        {
          "output_type": "stream",
          "name": "stdout",
          "text": [
            "Linear Regression Equation:\n",
            "41.674 * EmployeeNumber + -2.685 * Age + -8.218 * LengthService + 0.130 * AbsentHours + -0.763 * MappedGender + 0.720 * MappedCity + -0.344 * MappedTitle + -2.433 * MappedDept + 61.209\n"
          ]
        }
      ]
    }
  ]
}