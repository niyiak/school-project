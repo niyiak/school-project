{
  "nbformat": 4,
  "nbformat_minor": 0,
  "metadata": {
    "colab": {
      "provenance": []
    },
    "kernelspec": {
      "name": "python3",
      "display_name": "Python 3"
    },
    "language_info": {
      "name": "python"
    }
  },
  "cells": [
    {
      "cell_type": "code",
      "execution_count": null,
      "metadata": {
        "id": "3AdIDfdN7CNO"
      },
      "outputs": [],
      "source": []
    },
    {
      "cell_type": "markdown",
      "source": [
        "Load Database\n"
      ],
      "metadata": {
        "id": "ZXHBxQN77GIC"
      }
    },
    {
      "cell_type": "code",
      "source": [
        "import pandas as pd\n",
        "import numpy as np\n",
        "import seaborn as sns\n",
        "\n",
        "from sklearn import preprocessing, model_selection\n",
        "from sklearn.linear_model import LinearRegression"
      ],
      "metadata": {
        "id": "B8W664sD7JLA"
      },
      "execution_count": 1,
      "outputs": []
    },
    {
      "cell_type": "code",
      "source": [
        "df = pd.read_excel('/content/sample_data/MFGEmployees.xlsx')"
      ],
      "metadata": {
        "id": "wTG49zur7TP9"
      },
      "execution_count": 3,
      "outputs": []
    },
    {
      "cell_type": "markdown",
      "source": [
        "Data Exploration\n"
      ],
      "metadata": {
        "id": "yRjIxAyE7otg"
      }
    },
    {
      "cell_type": "code",
      "source": [
        "df.head()"
      ],
      "metadata": {
        "colab": {
          "base_uri": "https://localhost:8080/",
          "height": 206
        },
        "id": "-J4noWdlvbqh",
        "outputId": "93e5af5d-955e-4c64-ed27-b082481cc209"
      },
      "execution_count": 4,
      "outputs": [
        {
          "output_type": "execute_result",
          "data": {
            "text/plain": [
              "   EmployeeNumber    Surname GivenName Gender             City JobTitle  \\\n",
              "0               1  Gutierrez     Molly      F          Burnaby    Baker   \n",
              "1               2   Hardwick   Stephen      M        Courtenay    Baker   \n",
              "2               3    Delgado   Chester      M         Richmond    Baker   \n",
              "3               4      Simon     Irene      F         Victoria    Baker   \n",
              "4               5   Delvalle    Edward      M  New Westminster    Baker   \n",
              "\n",
              "  DepartmentName    StoreLocation Division BusinessUnit  Age  LengthService  \\\n",
              "0         Bakery          Burnaby   Stores       Stores   32              6   \n",
              "1         Bakery          Nanaimo   Stores       Stores   40              5   \n",
              "2         Bakery         Richmond   Stores       Stores   48              4   \n",
              "3         Bakery         Victoria   Stores       Stores   44              3   \n",
              "4         Bakery  New Westminster   Stores       Stores   35              3   \n",
              "\n",
              "   AbsentHours  \n",
              "0    36.577306  \n",
              "1    30.165072  \n",
              "2    83.807798  \n",
              "3    70.020165  \n",
              "4     0.000000  "
            ],
            "text/html": [
              "\n",
              "  <div id=\"df-da14210b-ec03-4076-bc41-ace326a45cfa\" class=\"colab-df-container\">\n",
              "    <div>\n",
              "<style scoped>\n",
              "    .dataframe tbody tr th:only-of-type {\n",
              "        vertical-align: middle;\n",
              "    }\n",
              "\n",
              "    .dataframe tbody tr th {\n",
              "        vertical-align: top;\n",
              "    }\n",
              "\n",
              "    .dataframe thead th {\n",
              "        text-align: right;\n",
              "    }\n",
              "</style>\n",
              "<table border=\"1\" class=\"dataframe\">\n",
              "  <thead>\n",
              "    <tr style=\"text-align: right;\">\n",
              "      <th></th>\n",
              "      <th>EmployeeNumber</th>\n",
              "      <th>Surname</th>\n",
              "      <th>GivenName</th>\n",
              "      <th>Gender</th>\n",
              "      <th>City</th>\n",
              "      <th>JobTitle</th>\n",
              "      <th>DepartmentName</th>\n",
              "      <th>StoreLocation</th>\n",
              "      <th>Division</th>\n",
              "      <th>BusinessUnit</th>\n",
              "      <th>Age</th>\n",
              "      <th>LengthService</th>\n",
              "      <th>AbsentHours</th>\n",
              "    </tr>\n",
              "  </thead>\n",
              "  <tbody>\n",
              "    <tr>\n",
              "      <th>0</th>\n",
              "      <td>1</td>\n",
              "      <td>Gutierrez</td>\n",
              "      <td>Molly</td>\n",
              "      <td>F</td>\n",
              "      <td>Burnaby</td>\n",
              "      <td>Baker</td>\n",
              "      <td>Bakery</td>\n",
              "      <td>Burnaby</td>\n",
              "      <td>Stores</td>\n",
              "      <td>Stores</td>\n",
              "      <td>32</td>\n",
              "      <td>6</td>\n",
              "      <td>36.577306</td>\n",
              "    </tr>\n",
              "    <tr>\n",
              "      <th>1</th>\n",
              "      <td>2</td>\n",
              "      <td>Hardwick</td>\n",
              "      <td>Stephen</td>\n",
              "      <td>M</td>\n",
              "      <td>Courtenay</td>\n",
              "      <td>Baker</td>\n",
              "      <td>Bakery</td>\n",
              "      <td>Nanaimo</td>\n",
              "      <td>Stores</td>\n",
              "      <td>Stores</td>\n",
              "      <td>40</td>\n",
              "      <td>5</td>\n",
              "      <td>30.165072</td>\n",
              "    </tr>\n",
              "    <tr>\n",
              "      <th>2</th>\n",
              "      <td>3</td>\n",
              "      <td>Delgado</td>\n",
              "      <td>Chester</td>\n",
              "      <td>M</td>\n",
              "      <td>Richmond</td>\n",
              "      <td>Baker</td>\n",
              "      <td>Bakery</td>\n",
              "      <td>Richmond</td>\n",
              "      <td>Stores</td>\n",
              "      <td>Stores</td>\n",
              "      <td>48</td>\n",
              "      <td>4</td>\n",
              "      <td>83.807798</td>\n",
              "    </tr>\n",
              "    <tr>\n",
              "      <th>3</th>\n",
              "      <td>4</td>\n",
              "      <td>Simon</td>\n",
              "      <td>Irene</td>\n",
              "      <td>F</td>\n",
              "      <td>Victoria</td>\n",
              "      <td>Baker</td>\n",
              "      <td>Bakery</td>\n",
              "      <td>Victoria</td>\n",
              "      <td>Stores</td>\n",
              "      <td>Stores</td>\n",
              "      <td>44</td>\n",
              "      <td>3</td>\n",
              "      <td>70.020165</td>\n",
              "    </tr>\n",
              "    <tr>\n",
              "      <th>4</th>\n",
              "      <td>5</td>\n",
              "      <td>Delvalle</td>\n",
              "      <td>Edward</td>\n",
              "      <td>M</td>\n",
              "      <td>New Westminster</td>\n",
              "      <td>Baker</td>\n",
              "      <td>Bakery</td>\n",
              "      <td>New Westminster</td>\n",
              "      <td>Stores</td>\n",
              "      <td>Stores</td>\n",
              "      <td>35</td>\n",
              "      <td>3</td>\n",
              "      <td>0.000000</td>\n",
              "    </tr>\n",
              "  </tbody>\n",
              "</table>\n",
              "</div>\n",
              "    <div class=\"colab-df-buttons\">\n",
              "\n",
              "  <div class=\"colab-df-container\">\n",
              "    <button class=\"colab-df-convert\" onclick=\"convertToInteractive('df-da14210b-ec03-4076-bc41-ace326a45cfa')\"\n",
              "            title=\"Convert this dataframe to an interactive table.\"\n",
              "            style=\"display:none;\">\n",
              "\n",
              "  <svg xmlns=\"http://www.w3.org/2000/svg\" height=\"24px\" viewBox=\"0 -960 960 960\">\n",
              "    <path d=\"M120-120v-720h720v720H120Zm60-500h600v-160H180v160Zm220 220h160v-160H400v160Zm0 220h160v-160H400v160ZM180-400h160v-160H180v160Zm440 0h160v-160H620v160ZM180-180h160v-160H180v160Zm440 0h160v-160H620v160Z\"/>\n",
              "  </svg>\n",
              "    </button>\n",
              "\n",
              "  <style>\n",
              "    .colab-df-container {\n",
              "      display:flex;\n",
              "      gap: 12px;\n",
              "    }\n",
              "\n",
              "    .colab-df-convert {\n",
              "      background-color: #E8F0FE;\n",
              "      border: none;\n",
              "      border-radius: 50%;\n",
              "      cursor: pointer;\n",
              "      display: none;\n",
              "      fill: #1967D2;\n",
              "      height: 32px;\n",
              "      padding: 0 0 0 0;\n",
              "      width: 32px;\n",
              "    }\n",
              "\n",
              "    .colab-df-convert:hover {\n",
              "      background-color: #E2EBFA;\n",
              "      box-shadow: 0px 1px 2px rgba(60, 64, 67, 0.3), 0px 1px 3px 1px rgba(60, 64, 67, 0.15);\n",
              "      fill: #174EA6;\n",
              "    }\n",
              "\n",
              "    .colab-df-buttons div {\n",
              "      margin-bottom: 4px;\n",
              "    }\n",
              "\n",
              "    [theme=dark] .colab-df-convert {\n",
              "      background-color: #3B4455;\n",
              "      fill: #D2E3FC;\n",
              "    }\n",
              "\n",
              "    [theme=dark] .colab-df-convert:hover {\n",
              "      background-color: #434B5C;\n",
              "      box-shadow: 0px 1px 3px 1px rgba(0, 0, 0, 0.15);\n",
              "      filter: drop-shadow(0px 1px 2px rgba(0, 0, 0, 0.3));\n",
              "      fill: #FFFFFF;\n",
              "    }\n",
              "  </style>\n",
              "\n",
              "    <script>\n",
              "      const buttonEl =\n",
              "        document.querySelector('#df-da14210b-ec03-4076-bc41-ace326a45cfa button.colab-df-convert');\n",
              "      buttonEl.style.display =\n",
              "        google.colab.kernel.accessAllowed ? 'block' : 'none';\n",
              "\n",
              "      async function convertToInteractive(key) {\n",
              "        const element = document.querySelector('#df-da14210b-ec03-4076-bc41-ace326a45cfa');\n",
              "        const dataTable =\n",
              "          await google.colab.kernel.invokeFunction('convertToInteractive',\n",
              "                                                    [key], {});\n",
              "        if (!dataTable) return;\n",
              "\n",
              "        const docLinkHtml = 'Like what you see? Visit the ' +\n",
              "          '<a target=\"_blank\" href=https://colab.research.google.com/notebooks/data_table.ipynb>data table notebook</a>'\n",
              "          + ' to learn more about interactive tables.';\n",
              "        element.innerHTML = '';\n",
              "        dataTable['output_type'] = 'display_data';\n",
              "        await google.colab.output.renderOutput(dataTable, element);\n",
              "        const docLink = document.createElement('div');\n",
              "        docLink.innerHTML = docLinkHtml;\n",
              "        element.appendChild(docLink);\n",
              "      }\n",
              "    </script>\n",
              "  </div>\n",
              "\n",
              "\n",
              "<div id=\"df-5f2f377d-ac7d-455a-bc60-dec193897a90\">\n",
              "  <button class=\"colab-df-quickchart\" onclick=\"quickchart('df-5f2f377d-ac7d-455a-bc60-dec193897a90')\"\n",
              "            title=\"Suggest charts\"\n",
              "            style=\"display:none;\">\n",
              "\n",
              "<svg xmlns=\"http://www.w3.org/2000/svg\" height=\"24px\"viewBox=\"0 0 24 24\"\n",
              "     width=\"24px\">\n",
              "    <g>\n",
              "        <path d=\"M19 3H5c-1.1 0-2 .9-2 2v14c0 1.1.9 2 2 2h14c1.1 0 2-.9 2-2V5c0-1.1-.9-2-2-2zM9 17H7v-7h2v7zm4 0h-2V7h2v10zm4 0h-2v-4h2v4z\"/>\n",
              "    </g>\n",
              "</svg>\n",
              "  </button>\n",
              "\n",
              "<style>\n",
              "  .colab-df-quickchart {\n",
              "      --bg-color: #E8F0FE;\n",
              "      --fill-color: #1967D2;\n",
              "      --hover-bg-color: #E2EBFA;\n",
              "      --hover-fill-color: #174EA6;\n",
              "      --disabled-fill-color: #AAA;\n",
              "      --disabled-bg-color: #DDD;\n",
              "  }\n",
              "\n",
              "  [theme=dark] .colab-df-quickchart {\n",
              "      --bg-color: #3B4455;\n",
              "      --fill-color: #D2E3FC;\n",
              "      --hover-bg-color: #434B5C;\n",
              "      --hover-fill-color: #FFFFFF;\n",
              "      --disabled-bg-color: #3B4455;\n",
              "      --disabled-fill-color: #666;\n",
              "  }\n",
              "\n",
              "  .colab-df-quickchart {\n",
              "    background-color: var(--bg-color);\n",
              "    border: none;\n",
              "    border-radius: 50%;\n",
              "    cursor: pointer;\n",
              "    display: none;\n",
              "    fill: var(--fill-color);\n",
              "    height: 32px;\n",
              "    padding: 0;\n",
              "    width: 32px;\n",
              "  }\n",
              "\n",
              "  .colab-df-quickchart:hover {\n",
              "    background-color: var(--hover-bg-color);\n",
              "    box-shadow: 0 1px 2px rgba(60, 64, 67, 0.3), 0 1px 3px 1px rgba(60, 64, 67, 0.15);\n",
              "    fill: var(--button-hover-fill-color);\n",
              "  }\n",
              "\n",
              "  .colab-df-quickchart-complete:disabled,\n",
              "  .colab-df-quickchart-complete:disabled:hover {\n",
              "    background-color: var(--disabled-bg-color);\n",
              "    fill: var(--disabled-fill-color);\n",
              "    box-shadow: none;\n",
              "  }\n",
              "\n",
              "  .colab-df-spinner {\n",
              "    border: 2px solid var(--fill-color);\n",
              "    border-color: transparent;\n",
              "    border-bottom-color: var(--fill-color);\n",
              "    animation:\n",
              "      spin 1s steps(1) infinite;\n",
              "  }\n",
              "\n",
              "  @keyframes spin {\n",
              "    0% {\n",
              "      border-color: transparent;\n",
              "      border-bottom-color: var(--fill-color);\n",
              "      border-left-color: var(--fill-color);\n",
              "    }\n",
              "    20% {\n",
              "      border-color: transparent;\n",
              "      border-left-color: var(--fill-color);\n",
              "      border-top-color: var(--fill-color);\n",
              "    }\n",
              "    30% {\n",
              "      border-color: transparent;\n",
              "      border-left-color: var(--fill-color);\n",
              "      border-top-color: var(--fill-color);\n",
              "      border-right-color: var(--fill-color);\n",
              "    }\n",
              "    40% {\n",
              "      border-color: transparent;\n",
              "      border-right-color: var(--fill-color);\n",
              "      border-top-color: var(--fill-color);\n",
              "    }\n",
              "    60% {\n",
              "      border-color: transparent;\n",
              "      border-right-color: var(--fill-color);\n",
              "    }\n",
              "    80% {\n",
              "      border-color: transparent;\n",
              "      border-right-color: var(--fill-color);\n",
              "      border-bottom-color: var(--fill-color);\n",
              "    }\n",
              "    90% {\n",
              "      border-color: transparent;\n",
              "      border-bottom-color: var(--fill-color);\n",
              "    }\n",
              "  }\n",
              "</style>\n",
              "\n",
              "  <script>\n",
              "    async function quickchart(key) {\n",
              "      const quickchartButtonEl =\n",
              "        document.querySelector('#' + key + ' button');\n",
              "      quickchartButtonEl.disabled = true;  // To prevent multiple clicks.\n",
              "      quickchartButtonEl.classList.add('colab-df-spinner');\n",
              "      try {\n",
              "        const charts = await google.colab.kernel.invokeFunction(\n",
              "            'suggestCharts', [key], {});\n",
              "      } catch (error) {\n",
              "        console.error('Error during call to suggestCharts:', error);\n",
              "      }\n",
              "      quickchartButtonEl.classList.remove('colab-df-spinner');\n",
              "      quickchartButtonEl.classList.add('colab-df-quickchart-complete');\n",
              "    }\n",
              "    (() => {\n",
              "      let quickchartButtonEl =\n",
              "        document.querySelector('#df-5f2f377d-ac7d-455a-bc60-dec193897a90 button');\n",
              "      quickchartButtonEl.style.display =\n",
              "        google.colab.kernel.accessAllowed ? 'block' : 'none';\n",
              "    })();\n",
              "  </script>\n",
              "</div>\n",
              "\n",
              "    </div>\n",
              "  </div>\n"
            ],
            "application/vnd.google.colaboratory.intrinsic+json": {
              "type": "dataframe",
              "variable_name": "df",
              "summary": "{\n  \"name\": \"df\",\n  \"rows\": 8287,\n  \"fields\": [\n    {\n      \"column\": \"EmployeeNumber\",\n      \"properties\": {\n        \"dtype\": \"number\",\n        \"std\": 2403,\n        \"min\": 1,\n        \"max\": 8336,\n        \"num_unique_values\": 8287,\n        \"samples\": [\n          4494,\n          5708,\n          8269\n        ],\n        \"semantic_type\": \"\",\n        \"description\": \"\"\n      }\n    },\n    {\n      \"column\": \"Surname\",\n      \"properties\": {\n        \"dtype\": \"category\",\n        \"num_unique_values\": 4037,\n        \"samples\": [\n          \"Spurgeon\",\n          \"Rayfield\",\n          \"Kee\"\n        ],\n        \"semantic_type\": \"\",\n        \"description\": \"\"\n      }\n    },\n    {\n      \"column\": \"GivenName\",\n      \"properties\": {\n        \"dtype\": \"category\",\n        \"num_unique_values\": 1617,\n        \"samples\": [\n          \"Denise\",\n          \"Sheila\",\n          \"Guy\"\n        ],\n        \"semantic_type\": \"\",\n        \"description\": \"\"\n      }\n    },\n    {\n      \"column\": \"Gender\",\n      \"properties\": {\n        \"dtype\": \"category\",\n        \"num_unique_values\": 2,\n        \"samples\": [\n          \"M\",\n          \"F\"\n        ],\n        \"semantic_type\": \"\",\n        \"description\": \"\"\n      }\n    },\n    {\n      \"column\": \"City\",\n      \"properties\": {\n        \"dtype\": \"category\",\n        \"num_unique_values\": 243,\n        \"samples\": [\n          \"Coquitlam\",\n          \"Sechelt\"\n        ],\n        \"semantic_type\": \"\",\n        \"description\": \"\"\n      }\n    },\n    {\n      \"column\": \"JobTitle\",\n      \"properties\": {\n        \"dtype\": \"category\",\n        \"num_unique_values\": 47,\n        \"samples\": [\n          \"Store Manager\",\n          \"Director, Accounts Payable\"\n        ],\n        \"semantic_type\": \"\",\n        \"description\": \"\"\n      }\n    },\n    {\n      \"column\": \"DepartmentName\",\n      \"properties\": {\n        \"dtype\": \"category\",\n        \"num_unique_values\": 21,\n        \"samples\": [\n          \"Bakery\",\n          \"Executive\"\n        ],\n        \"semantic_type\": \"\",\n        \"description\": \"\"\n      }\n    },\n    {\n      \"column\": \"StoreLocation\",\n      \"properties\": {\n        \"dtype\": \"category\",\n        \"num_unique_values\": 40,\n        \"samples\": [\n          \"Prince George\",\n          \"Squamish\"\n        ],\n        \"semantic_type\": \"\",\n        \"description\": \"\"\n      }\n    },\n    {\n      \"column\": \"Division\",\n      \"properties\": {\n        \"dtype\": \"category\",\n        \"num_unique_values\": 6,\n        \"samples\": [\n          \"Stores\",\n          \"FinanceAndAccounting\"\n        ],\n        \"semantic_type\": \"\",\n        \"description\": \"\"\n      }\n    },\n    {\n      \"column\": \"BusinessUnit\",\n      \"properties\": {\n        \"dtype\": \"category\",\n        \"num_unique_values\": 2,\n        \"samples\": [\n          \"HeadOffice\",\n          \"Stores\"\n        ],\n        \"semantic_type\": \"\",\n        \"description\": \"\"\n      }\n    },\n    {\n      \"column\": \"Age\",\n      \"properties\": {\n        \"dtype\": \"number\",\n        \"std\": 9,\n        \"min\": 16,\n        \"max\": 77,\n        \"num_unique_values\": 58,\n        \"samples\": [\n          32,\n          50\n        ],\n        \"semantic_type\": \"\",\n        \"description\": \"\"\n      }\n    },\n    {\n      \"column\": \"LengthService\",\n      \"properties\": {\n        \"dtype\": \"number\",\n        \"std\": 2,\n        \"min\": 0,\n        \"max\": 43,\n        \"num_unique_values\": 37,\n        \"samples\": [\n          16,\n          20\n        ],\n        \"semantic_type\": \"\",\n        \"description\": \"\"\n      }\n    },\n    {\n      \"column\": \"AbsentHours\",\n      \"properties\": {\n        \"dtype\": \"number\",\n        \"std\": 48.95549843748459,\n        \"min\": 0.0,\n        \"max\": 272.5301234,\n        \"num_unique_values\": 7016,\n        \"samples\": [\n          80.61602911,\n          22.45783056\n        ],\n        \"semantic_type\": \"\",\n        \"description\": \"\"\n      }\n    }\n  ]\n}"
            }
          },
          "metadata": {},
          "execution_count": 4
        }
      ]
    },
    {
      "cell_type": "code",
      "source": [
        "df.info()\n"
      ],
      "metadata": {
        "colab": {
          "base_uri": "https://localhost:8080/"
        },
        "id": "Ds_g-H3HwD4Z",
        "outputId": "cdabf7c3-ed8c-492f-c0ca-b327f93a3196"
      },
      "execution_count": 4,
      "outputs": [
        {
          "output_type": "stream",
          "name": "stdout",
          "text": [
            "<class 'pandas.core.frame.DataFrame'>\n",
            "RangeIndex: 8287 entries, 0 to 8286\n",
            "Data columns (total 13 columns):\n",
            " #   Column          Non-Null Count  Dtype  \n",
            "---  ------          --------------  -----  \n",
            " 0   EmployeeNumber  8287 non-null   int64  \n",
            " 1   Surname         8287 non-null   object \n",
            " 2   GivenName       8287 non-null   object \n",
            " 3   Gender          8287 non-null   object \n",
            " 4   City            8287 non-null   object \n",
            " 5   JobTitle        8287 non-null   object \n",
            " 6   DepartmentName  8287 non-null   object \n",
            " 7   StoreLocation   8287 non-null   object \n",
            " 8   Division        8287 non-null   object \n",
            " 9   BusinessUnit    8287 non-null   object \n",
            " 10  Age             8287 non-null   int64  \n",
            " 11  LengthService   8287 non-null   int64  \n",
            " 12  AbsentHours     8287 non-null   float64\n",
            "dtypes: float64(1), int64(3), object(9)\n",
            "memory usage: 841.8+ KB\n"
          ]
        }
      ]
    },
    {
      "cell_type": "code",
      "source": [
        "df.describe()"
      ],
      "metadata": {
        "colab": {
          "base_uri": "https://localhost:8080/",
          "height": 300
        },
        "id": "xiBqN2q3FHSh",
        "outputId": "b1794f7d-df61-4ef9-b05a-4b1c17419bf5"
      },
      "execution_count": 5,
      "outputs": [
        {
          "output_type": "execute_result",
          "data": {
            "text/plain": [
              "       EmployeeNumber          Age  LengthService  AbsentHours\n",
              "count     8287.000000  8287.000000    8287.000000  8287.000000\n",
              "mean      4171.160251    41.669844       4.244721    61.646342\n",
              "std       2403.893129     9.731458       2.504105    48.955498\n",
              "min          1.000000    16.000000       0.000000     0.000000\n",
              "25%       2091.500000    35.000000       3.000000    20.003766\n",
              "50%       4175.000000    42.000000       4.000000    56.381745\n",
              "75%       6251.500000    48.000000       5.000000    94.540211\n",
              "max       8336.000000    77.000000      43.000000   272.530123"
            ],
            "text/html": [
              "\n",
              "  <div id=\"df-03540a14-9686-4437-beb6-d97542c6b97e\" class=\"colab-df-container\">\n",
              "    <div>\n",
              "<style scoped>\n",
              "    .dataframe tbody tr th:only-of-type {\n",
              "        vertical-align: middle;\n",
              "    }\n",
              "\n",
              "    .dataframe tbody tr th {\n",
              "        vertical-align: top;\n",
              "    }\n",
              "\n",
              "    .dataframe thead th {\n",
              "        text-align: right;\n",
              "    }\n",
              "</style>\n",
              "<table border=\"1\" class=\"dataframe\">\n",
              "  <thead>\n",
              "    <tr style=\"text-align: right;\">\n",
              "      <th></th>\n",
              "      <th>EmployeeNumber</th>\n",
              "      <th>Age</th>\n",
              "      <th>LengthService</th>\n",
              "      <th>AbsentHours</th>\n",
              "    </tr>\n",
              "  </thead>\n",
              "  <tbody>\n",
              "    <tr>\n",
              "      <th>count</th>\n",
              "      <td>8287.000000</td>\n",
              "      <td>8287.000000</td>\n",
              "      <td>8287.000000</td>\n",
              "      <td>8287.000000</td>\n",
              "    </tr>\n",
              "    <tr>\n",
              "      <th>mean</th>\n",
              "      <td>4171.160251</td>\n",
              "      <td>41.669844</td>\n",
              "      <td>4.244721</td>\n",
              "      <td>61.646342</td>\n",
              "    </tr>\n",
              "    <tr>\n",
              "      <th>std</th>\n",
              "      <td>2403.893129</td>\n",
              "      <td>9.731458</td>\n",
              "      <td>2.504105</td>\n",
              "      <td>48.955498</td>\n",
              "    </tr>\n",
              "    <tr>\n",
              "      <th>min</th>\n",
              "      <td>1.000000</td>\n",
              "      <td>16.000000</td>\n",
              "      <td>0.000000</td>\n",
              "      <td>0.000000</td>\n",
              "    </tr>\n",
              "    <tr>\n",
              "      <th>25%</th>\n",
              "      <td>2091.500000</td>\n",
              "      <td>35.000000</td>\n",
              "      <td>3.000000</td>\n",
              "      <td>20.003766</td>\n",
              "    </tr>\n",
              "    <tr>\n",
              "      <th>50%</th>\n",
              "      <td>4175.000000</td>\n",
              "      <td>42.000000</td>\n",
              "      <td>4.000000</td>\n",
              "      <td>56.381745</td>\n",
              "    </tr>\n",
              "    <tr>\n",
              "      <th>75%</th>\n",
              "      <td>6251.500000</td>\n",
              "      <td>48.000000</td>\n",
              "      <td>5.000000</td>\n",
              "      <td>94.540211</td>\n",
              "    </tr>\n",
              "    <tr>\n",
              "      <th>max</th>\n",
              "      <td>8336.000000</td>\n",
              "      <td>77.000000</td>\n",
              "      <td>43.000000</td>\n",
              "      <td>272.530123</td>\n",
              "    </tr>\n",
              "  </tbody>\n",
              "</table>\n",
              "</div>\n",
              "    <div class=\"colab-df-buttons\">\n",
              "\n",
              "  <div class=\"colab-df-container\">\n",
              "    <button class=\"colab-df-convert\" onclick=\"convertToInteractive('df-03540a14-9686-4437-beb6-d97542c6b97e')\"\n",
              "            title=\"Convert this dataframe to an interactive table.\"\n",
              "            style=\"display:none;\">\n",
              "\n",
              "  <svg xmlns=\"http://www.w3.org/2000/svg\" height=\"24px\" viewBox=\"0 -960 960 960\">\n",
              "    <path d=\"M120-120v-720h720v720H120Zm60-500h600v-160H180v160Zm220 220h160v-160H400v160Zm0 220h160v-160H400v160ZM180-400h160v-160H180v160Zm440 0h160v-160H620v160ZM180-180h160v-160H180v160Zm440 0h160v-160H620v160Z\"/>\n",
              "  </svg>\n",
              "    </button>\n",
              "\n",
              "  <style>\n",
              "    .colab-df-container {\n",
              "      display:flex;\n",
              "      gap: 12px;\n",
              "    }\n",
              "\n",
              "    .colab-df-convert {\n",
              "      background-color: #E8F0FE;\n",
              "      border: none;\n",
              "      border-radius: 50%;\n",
              "      cursor: pointer;\n",
              "      display: none;\n",
              "      fill: #1967D2;\n",
              "      height: 32px;\n",
              "      padding: 0 0 0 0;\n",
              "      width: 32px;\n",
              "    }\n",
              "\n",
              "    .colab-df-convert:hover {\n",
              "      background-color: #E2EBFA;\n",
              "      box-shadow: 0px 1px 2px rgba(60, 64, 67, 0.3), 0px 1px 3px 1px rgba(60, 64, 67, 0.15);\n",
              "      fill: #174EA6;\n",
              "    }\n",
              "\n",
              "    .colab-df-buttons div {\n",
              "      margin-bottom: 4px;\n",
              "    }\n",
              "\n",
              "    [theme=dark] .colab-df-convert {\n",
              "      background-color: #3B4455;\n",
              "      fill: #D2E3FC;\n",
              "    }\n",
              "\n",
              "    [theme=dark] .colab-df-convert:hover {\n",
              "      background-color: #434B5C;\n",
              "      box-shadow: 0px 1px 3px 1px rgba(0, 0, 0, 0.15);\n",
              "      filter: drop-shadow(0px 1px 2px rgba(0, 0, 0, 0.3));\n",
              "      fill: #FFFFFF;\n",
              "    }\n",
              "  </style>\n",
              "\n",
              "    <script>\n",
              "      const buttonEl =\n",
              "        document.querySelector('#df-03540a14-9686-4437-beb6-d97542c6b97e button.colab-df-convert');\n",
              "      buttonEl.style.display =\n",
              "        google.colab.kernel.accessAllowed ? 'block' : 'none';\n",
              "\n",
              "      async function convertToInteractive(key) {\n",
              "        const element = document.querySelector('#df-03540a14-9686-4437-beb6-d97542c6b97e');\n",
              "        const dataTable =\n",
              "          await google.colab.kernel.invokeFunction('convertToInteractive',\n",
              "                                                    [key], {});\n",
              "        if (!dataTable) return;\n",
              "\n",
              "        const docLinkHtml = 'Like what you see? Visit the ' +\n",
              "          '<a target=\"_blank\" href=https://colab.research.google.com/notebooks/data_table.ipynb>data table notebook</a>'\n",
              "          + ' to learn more about interactive tables.';\n",
              "        element.innerHTML = '';\n",
              "        dataTable['output_type'] = 'display_data';\n",
              "        await google.colab.output.renderOutput(dataTable, element);\n",
              "        const docLink = document.createElement('div');\n",
              "        docLink.innerHTML = docLinkHtml;\n",
              "        element.appendChild(docLink);\n",
              "      }\n",
              "    </script>\n",
              "  </div>\n",
              "\n",
              "\n",
              "<div id=\"df-c9d8e220-d385-4312-a56b-aa889444f15f\">\n",
              "  <button class=\"colab-df-quickchart\" onclick=\"quickchart('df-c9d8e220-d385-4312-a56b-aa889444f15f')\"\n",
              "            title=\"Suggest charts\"\n",
              "            style=\"display:none;\">\n",
              "\n",
              "<svg xmlns=\"http://www.w3.org/2000/svg\" height=\"24px\"viewBox=\"0 0 24 24\"\n",
              "     width=\"24px\">\n",
              "    <g>\n",
              "        <path d=\"M19 3H5c-1.1 0-2 .9-2 2v14c0 1.1.9 2 2 2h14c1.1 0 2-.9 2-2V5c0-1.1-.9-2-2-2zM9 17H7v-7h2v7zm4 0h-2V7h2v10zm4 0h-2v-4h2v4z\"/>\n",
              "    </g>\n",
              "</svg>\n",
              "  </button>\n",
              "\n",
              "<style>\n",
              "  .colab-df-quickchart {\n",
              "      --bg-color: #E8F0FE;\n",
              "      --fill-color: #1967D2;\n",
              "      --hover-bg-color: #E2EBFA;\n",
              "      --hover-fill-color: #174EA6;\n",
              "      --disabled-fill-color: #AAA;\n",
              "      --disabled-bg-color: #DDD;\n",
              "  }\n",
              "\n",
              "  [theme=dark] .colab-df-quickchart {\n",
              "      --bg-color: #3B4455;\n",
              "      --fill-color: #D2E3FC;\n",
              "      --hover-bg-color: #434B5C;\n",
              "      --hover-fill-color: #FFFFFF;\n",
              "      --disabled-bg-color: #3B4455;\n",
              "      --disabled-fill-color: #666;\n",
              "  }\n",
              "\n",
              "  .colab-df-quickchart {\n",
              "    background-color: var(--bg-color);\n",
              "    border: none;\n",
              "    border-radius: 50%;\n",
              "    cursor: pointer;\n",
              "    display: none;\n",
              "    fill: var(--fill-color);\n",
              "    height: 32px;\n",
              "    padding: 0;\n",
              "    width: 32px;\n",
              "  }\n",
              "\n",
              "  .colab-df-quickchart:hover {\n",
              "    background-color: var(--hover-bg-color);\n",
              "    box-shadow: 0 1px 2px rgba(60, 64, 67, 0.3), 0 1px 3px 1px rgba(60, 64, 67, 0.15);\n",
              "    fill: var(--button-hover-fill-color);\n",
              "  }\n",
              "\n",
              "  .colab-df-quickchart-complete:disabled,\n",
              "  .colab-df-quickchart-complete:disabled:hover {\n",
              "    background-color: var(--disabled-bg-color);\n",
              "    fill: var(--disabled-fill-color);\n",
              "    box-shadow: none;\n",
              "  }\n",
              "\n",
              "  .colab-df-spinner {\n",
              "    border: 2px solid var(--fill-color);\n",
              "    border-color: transparent;\n",
              "    border-bottom-color: var(--fill-color);\n",
              "    animation:\n",
              "      spin 1s steps(1) infinite;\n",
              "  }\n",
              "\n",
              "  @keyframes spin {\n",
              "    0% {\n",
              "      border-color: transparent;\n",
              "      border-bottom-color: var(--fill-color);\n",
              "      border-left-color: var(--fill-color);\n",
              "    }\n",
              "    20% {\n",
              "      border-color: transparent;\n",
              "      border-left-color: var(--fill-color);\n",
              "      border-top-color: var(--fill-color);\n",
              "    }\n",
              "    30% {\n",
              "      border-color: transparent;\n",
              "      border-left-color: var(--fill-color);\n",
              "      border-top-color: var(--fill-color);\n",
              "      border-right-color: var(--fill-color);\n",
              "    }\n",
              "    40% {\n",
              "      border-color: transparent;\n",
              "      border-right-color: var(--fill-color);\n",
              "      border-top-color: var(--fill-color);\n",
              "    }\n",
              "    60% {\n",
              "      border-color: transparent;\n",
              "      border-right-color: var(--fill-color);\n",
              "    }\n",
              "    80% {\n",
              "      border-color: transparent;\n",
              "      border-right-color: var(--fill-color);\n",
              "      border-bottom-color: var(--fill-color);\n",
              "    }\n",
              "    90% {\n",
              "      border-color: transparent;\n",
              "      border-bottom-color: var(--fill-color);\n",
              "    }\n",
              "  }\n",
              "</style>\n",
              "\n",
              "  <script>\n",
              "    async function quickchart(key) {\n",
              "      const quickchartButtonEl =\n",
              "        document.querySelector('#' + key + ' button');\n",
              "      quickchartButtonEl.disabled = true;  // To prevent multiple clicks.\n",
              "      quickchartButtonEl.classList.add('colab-df-spinner');\n",
              "      try {\n",
              "        const charts = await google.colab.kernel.invokeFunction(\n",
              "            'suggestCharts', [key], {});\n",
              "      } catch (error) {\n",
              "        console.error('Error during call to suggestCharts:', error);\n",
              "      }\n",
              "      quickchartButtonEl.classList.remove('colab-df-spinner');\n",
              "      quickchartButtonEl.classList.add('colab-df-quickchart-complete');\n",
              "    }\n",
              "    (() => {\n",
              "      let quickchartButtonEl =\n",
              "        document.querySelector('#df-c9d8e220-d385-4312-a56b-aa889444f15f button');\n",
              "      quickchartButtonEl.style.display =\n",
              "        google.colab.kernel.accessAllowed ? 'block' : 'none';\n",
              "    })();\n",
              "  </script>\n",
              "</div>\n",
              "\n",
              "    </div>\n",
              "  </div>\n"
            ],
            "application/vnd.google.colaboratory.intrinsic+json": {
              "type": "dataframe",
              "summary": "{\n  \"name\": \"df\",\n  \"rows\": 8,\n  \"fields\": [\n    {\n      \"column\": \"EmployeeNumber\",\n      \"properties\": {\n        \"dtype\": \"number\",\n        \"std\": 2994.3591670079927,\n        \"min\": 1.0,\n        \"max\": 8336.0,\n        \"num_unique_values\": 8,\n        \"samples\": [\n          4171.1602509955355,\n          4175.0,\n          8287.0\n        ],\n        \"semantic_type\": \"\",\n        \"description\": \"\"\n      }\n    },\n    {\n      \"column\": \"Age\",\n      \"properties\": {\n        \"dtype\": \"number\",\n        \"std\": 2916.3621583914596,\n        \"min\": 9.731457572508901,\n        \"max\": 8287.0,\n        \"num_unique_values\": 8,\n        \"samples\": [\n          41.66984433449982,\n          42.0,\n          8287.0\n        ],\n        \"semantic_type\": \"\",\n        \"description\": \"\"\n      }\n    },\n    {\n      \"column\": \"LengthService\",\n      \"properties\": {\n        \"dtype\": \"number\",\n        \"std\": 2926.811805632805,\n        \"min\": 0.0,\n        \"max\": 8287.0,\n        \"num_unique_values\": 8,\n        \"samples\": [\n          4.244720646796186,\n          4.0,\n          8287.0\n        ],\n        \"semantic_type\": \"\",\n        \"description\": \"\"\n      }\n    },\n    {\n      \"column\": \"AbsentHours\",\n      \"properties\": {\n        \"dtype\": \"number\",\n        \"std\": 2903.1219121703202,\n        \"min\": 0.0,\n        \"max\": 8287.0,\n        \"num_unique_values\": 8,\n        \"samples\": [\n          61.646342218207316,\n          56.38174507,\n          8287.0\n        ],\n        \"semantic_type\": \"\",\n        \"description\": \"\"\n      }\n    }\n  ]\n}"
            }
          },
          "metadata": {},
          "execution_count": 5
        }
      ]
    },
    {
      "cell_type": "code",
      "source": [
        "#create a mapping of unique values in a given field to integers and create new columns of mapped integers\n",
        "def mapper(field, new_field):\n",
        "    keys = field.unique()\n",
        "    dicts = dict(zip(keys, range(len(keys))))\n",
        "    print(dicts)\n",
        "    df[new_field] = field.map(dicts).astype(int)\n",
        "\n",
        "mapper(df.Gender, 'MappedGender')\n",
        "mapper(df.City, 'MappedCity')\n",
        "mapper(df.JobTitle, 'MappedTitle')\n",
        "mapper(df.DepartmentName, 'MappedDept')\n",
        "mapper(df.StoreLocation, 'MappedStoreLoc')\n",
        "mapper(df.Division, 'MappedDivision')"
      ],
      "metadata": {
        "colab": {
          "base_uri": "https://localhost:8080/"
        },
        "id": "sVlChoHmvlOg",
        "outputId": "f4806eee-fcca-48fd-dbee-5762144bc575"
      },
      "execution_count": 6,
      "outputs": [
        {
          "output_type": "stream",
          "name": "stdout",
          "text": [
            "{'F': 0, 'M': 1}\n",
            "{'Burnaby': 0, 'Courtenay': 1, 'Richmond': 2, 'Victoria': 3, 'New Westminster': 4, 'Vancouver': 5, 'Sechelt': 6, 'North Vancouver': 7, 'Vananda': 8, 'West Vancouver': 9, 'Nanaimo': 10, 'Aldergrove': 11, 'Kelowna': 12, 'Trail': 13, 'Penticton': 14, 'Duncan': 15, 'Crawford Bay': 16, 'Port Hardy': 17, 'Abbotsford': 18, 'Dawson Creek': 19, 'Surrey': 20, 'Squamish': 21, 'Good Hope Lake': 22, 'Sidney': 23, 'Coquitlam': 24, 'Chilliwack': 25, 'Okanagan Mission': 26, 'Ganges': 27, 'Prince George': 28, 'Atlin': 29, 'Kamloops': 30, 'Whistler': 31, 'Spences Bridge': 32, 'New Westminister': 33, 'Gibsons': 34, 'Vernon': 35, 'Fauquier': 36, 'Mackenzie': 37, 'Gold Bridge': 38, 'Fort Fraser': 39, 'Nelson': 40, 'Kaslo': 41, 'Creston': 42, 'Wynndel': 43, 'Muncho Lake': 44, 'Kitimat': 45, 'Lac La Hache': 46, 'Armstrong': 47, 'Quesnel': 48, 'Hixon': 49, 'Ocean Falls': 50, 'Vallican': 51, 'North Pender Island': 52, 'Montney': 53, 'Burns Lake': 54, 'Midway': 55, 'Westwold': 56, 'Terrace': 57, 'Golden': 58, 'Port Coquitlam': 59, 'White Rock': 60, 'Logan Lake': 61, 'Summerland': 62, 'Langley': 63, 'Huntingdon': 64, 'Yale': 65, 'Aiyansh': 66, 'Haney': 67, 'Bowen Island': 68, 'Fort Langley': 69, 'Clinton': 70, 'Pender Harbour': 71, 'Parksville': 72, 'Mcleese Lake': 73, 'Fort St John': 74, 'Campbell River': 75, 'Wells': 76, 'Manning Park': 77, 'Decker Lake': 78, 'Salmon Arm': 79, 'Sooke': 80, 'Horsefly': 81, 'Invermere': 82, 'Topley': 83, 'Field': 84, 'Youbou': 85, 'Sorrento': 86, 'Merritt': 87, 'Rossland': 88, 'Castlegar': 89, 'Williams Lake': 90, 'Willow Point': 91, 'Woss': 92, 'Cobble Hill': 93, 'Bob Quinn Lake': 94, 'Hedley': 95, 'Sardis': 96, 'Sparwood': 97, 'Port Mcneill': 98, 'Salmon Valley': 99, 'Agassiz': 100, 'Avola': 101, 'Bear Lake': 102, 'Brackendale': 103, 'Skookumchuck': 104, 'Cranbrook': 105, 'Britannia Beach': 106, 'Flatrock': 107, 'Princeton': 108, 'Fort Nelson': 109, 'Slocan': 110, 'Lumby': 111, 'Chase': 112, 'Boston Bar': 113, 'Port Alberni': 114, 'Union Bay': 115, 'Francois Lake': 116, 'Chief Lake': 117, 'Beaver Valley': 118, 'Oyster River': 119, \"D'arcy\": 120, 'Winfield': 121, 'Valemount': 122, 'Port Alice': 123, 'Canal Flats': 124, 'Tofino': 125, 'Mayne Island': 126, 'Bamfield': 127, 'Chilako River': 128, 'Grasmere': 129, 'Clearwater': 130, 'Osoyoos': 131, 'Grassy Plains': 132, 'Fulford Harbour': 133, 'Keremeos': 134, 'Fort St James': 135, 'Pitt Meadows': 136, 'Lakelse Lake': 137, 'Genelle': 138, 'Iskut': 139, 'Comox': 140, 'Oyama': 141, 'Lillooet': 142, 'Ladysmith': 143, 'Chemainus': 144, 'Douglas Lake': 145, 'Yarrow': 146, 'Elkford': 147, 'Telegraph Creek': 148, 'Mission': 149, 'Fruitvale': 150, 'Vanderhoof': 151, 'Powell River': 152, 'Pemberton': 153, 'Tumbler Ridge': 154, 'Chilanko Forks': 155, 'Ashcroft': 156, 'Klemtu': 157, 'Cumberland': 158, 'Port Mellon': 159, 'Cortes Island': 160, 'Jaffray': 161, 'Black Point': 162, 'Forest Grove': 163, 'Peachland': 164, 'Grand Forks': 165, 'Hazelton': 166, 'Chetwynd': 167, 'Riske Creek': 168, 'Oliver': 169, 'Nakusp': 170, 'Rutland': 171, 'Bouchie Lake': 172, 'Greenwood': 173, 'Qualicum Beach': 174, 'Westbank': 175, 'Houston': 176, 'Revelstoke': 177, 'Gabriola Island': 178, 'Port Renfrew': 179, 'Wildwood': 180, 'Port Edward': 181, 'Balfour': 182, 'Pritchard': 183, 'Nimpo Lake': 184, 'Black Pool': 185, 'Cassiar': 186, 'Hemlock Valley': 187, 'Bella Bella': 188, 'Alexis Creek': 189, 'Parson': 190, 'Fraser Lake': 191, 'Seton Portage': 192, 'Rock Creek': 193, 'Kimberley': 194, 'Mcbride': 195, 'Dragon Lake': 196, 'Tappen': 197, 'Hope': 198, 'Taylor': 199, 'Salmo': 200, 'Hansard': 201, 'Dease Lake': 202, 'Giscome': 203, 'Granisle': 204, 'Ucluelet': 205, 'Blue River': 206, 'Lakeview Heights': 207, 'Kitwanga': 208, 'Mica Creek': 209, 'Fernie': 210, 'Pouce Coupe': 211, 'Rosedale': 212, 'Bougie Creek': 213, 'Bridge Lake': 214, 'Lake Cowichan': 215, 'Vavenby': 216, 'Tatla Lake': 217, 'Enderby': 218, 'Radium Hot Springs': 219, 'Sayward': 220, 'Lower Post': 221, 'South Slocan': 222, 'Yahk': 223, 'Elko': 224, 'Christina Lake': 225, 'Cluculz Lake': 226, 'Toad River': 227, 'Celista': 228, 'Smithers': 229, 'Little Fort': 230, 'Sandspit': 231, 'Quadra Island': 232, 'Blueberry': 233, 'Okanagan Falls': 234, 'Cache Creek': 235, 'Barriere': 236, 'Lytton': 237, 'Sicamous': 238, 'Likely': 239, 'Fairmont Hot Springs': 240, 'Alkali Lake': 241, 'Spillimacheen': 242}\n",
            "{'Baker': 0, 'Accounting Clerk': 1, 'Accounts Payable Clerk': 2, 'Accounts Receiveable Clerk': 3, 'Auditor': 4, 'Bakery Manager': 5, 'Benefits Admin': 6, 'Cashier': 7, 'Compensation Analyst': 8, 'HRIS Analyst': 9, 'Investment Analyst': 10, 'Labor Relations Analyst': 11, 'Recruiter': 12, 'Dairy Person': 13, 'Systems Analyst': 14, 'Trainer': 15, 'Meat Cutter': 16, 'Produce Clerk': 17, 'CEO': 18, 'VP Stores': 19, 'Legal Counsel': 20, 'VP Human Resources': 21, 'VP Finance': 22, 'Exec Assistant, VP Stores': 23, 'Exec Assistant, Human Resources': 24, 'Exec Assistant, Legal Counsel': 25, 'CHief Information Officer': 26, 'Store Manager': 27, 'Meats Manager': 28, 'Exec Assistant, Finance': 29, 'Director, Recruitment': 30, 'Director, Training': 31, 'Director, Labor Relations': 32, 'Director, HR Technology': 33, 'Director, Employee Records': 34, 'Director, Compensation': 35, 'Corporate Lawyer': 36, 'Produce Manager': 37, 'Director, Accounts Receivable': 38, 'Director, Accounts Payable': 39, 'Director, Audit': 40, 'Director, Accounting': 41, 'Director, Investments': 42, 'Processed Foods Manager': 43, 'Customer Service Manager': 44, 'Dairy Manager': 45, 'Shelf Stocker': 46}\n",
            "{'Bakery': 0, 'Accounting': 1, 'Accounts Payable': 2, 'Accounts Receiveable': 3, 'Audit': 4, 'Employee Records': 5, 'Customer Service': 6, 'Compensation': 7, 'HR Technology': 8, 'Investment': 9, 'Labor Relations': 10, 'Recruitment': 11, 'Dairy': 12, 'Information Technology': 13, 'Training': 14, 'Meats': 15, 'Produce': 16, 'Executive': 17, 'Store Management': 18, 'Legal': 19, 'Processed Foods': 20}\n",
            "{'Burnaby': 0, 'Nanaimo': 1, 'Richmond': 2, 'Victoria': 3, 'New Westminster': 4, 'Vancouver': 5, 'West Vancouver': 6, 'North Vancouver': 7, 'Aldergrove': 8, 'Kelowna': 9, 'Trail': 10, 'Quesnel': 11, 'Cranbrook': 12, 'Abbotsford': 13, 'Dawson Creek': 14, 'Surrey': 15, 'Squamish': 16, 'Terrace': 17, 'Chilliwack': 18, 'Prince George': 19, 'Kamloops': 20, 'New Westminister': 21, 'Vernon': 22, 'Nelson': 23, 'Fort St John': 24, 'Williams Lake': 25, 'Ocean Falls': 26, 'Port Coquitlam': 27, 'White Rock': 28, 'Langley': 29, 'Haney': 30, 'Princeton': 31, 'Fort Nelson': 32, 'Valemount': 33, 'Pitt Meadows': 34, 'Bella Bella': 35, 'Cortes Island': 36, 'Grand Forks': 37, 'Dease Lake': 38, 'Blue River': 39}\n",
            "{'Stores': 0, 'FinanceAndAccounting': 1, 'HumanResources': 2, 'InfoTech': 3, 'Executive': 4, 'Legal': 5}\n"
          ]
        }
      ]
    },
    {
      "cell_type": "markdown",
      "source": [
        "Regression Analysis"
      ],
      "metadata": {
        "id": "hXCv8_--HHiE"
      }
    },
    {
      "cell_type": "code",
      "source": [
        "print(df.columns)"
      ],
      "metadata": {
        "colab": {
          "base_uri": "https://localhost:8080/"
        },
        "id": "ygsfAvk28ybM",
        "outputId": "69a87964-241e-41bd-ab1c-a52457ffc2c1"
      },
      "execution_count": 7,
      "outputs": [
        {
          "output_type": "stream",
          "name": "stdout",
          "text": [
            "Index(['EmployeeNumber', 'Surname', 'GivenName', 'Gender', 'City', 'JobTitle',\n",
            "       'DepartmentName', 'StoreLocation', 'Division', 'BusinessUnit', 'Age',\n",
            "       'LengthService', 'AbsentHours', 'MappedGender', 'MappedCity',\n",
            "       'MappedTitle', 'MappedDept', 'MappedStoreLoc', 'MappedDivision'],\n",
            "      dtype='object')\n"
          ]
        }
      ]
    },
    {
      "cell_type": "code",
      "source": [
        "num_feat = list(df.drop(columns=[\"Surname\",\"GivenName\",\"Gender\",\"City\",\"JobTitle\",\"DepartmentName\",\"StoreLocation\",\"Division\",\"BusinessUnit\"]))\n",
        "num_feat"
      ],
      "metadata": {
        "colab": {
          "base_uri": "https://localhost:8080/"
        },
        "id": "XPgKrsxwHNhg",
        "outputId": "cc94f7bd-02c9-46ee-d3cc-c4b8160aaccf"
      },
      "execution_count": 8,
      "outputs": [
        {
          "output_type": "execute_result",
          "data": {
            "text/plain": [
              "['EmployeeNumber',\n",
              " 'Age',\n",
              " 'LengthService',\n",
              " 'AbsentHours',\n",
              " 'MappedGender',\n",
              " 'MappedCity',\n",
              " 'MappedTitle',\n",
              " 'MappedDept',\n",
              " 'MappedStoreLoc',\n",
              " 'MappedDivision']"
            ]
          },
          "metadata": {},
          "execution_count": 8
        }
      ]
    },
    {
      "cell_type": "markdown",
      "source": [
        "Test for Normal Distribution"
      ],
      "metadata": {
        "id": "ts90veeyKlRN"
      }
    },
    {
      "cell_type": "code",
      "source": [
        "from scipy.stats import normaltest\n"
      ],
      "metadata": {
        "id": "kOndzFbrKMtd"
      },
      "execution_count": 9,
      "outputs": []
    },
    {
      "cell_type": "code",
      "source": [
        "for i in num_feat:\n",
        "  stats, pval=normaltest(df[i])\n",
        "  if pval > 0.05:\n",
        "    print(i,': Normal Distributed')\n",
        "  else:\n",
        "    print(i,': Not Normal Distributed')"
      ],
      "metadata": {
        "colab": {
          "base_uri": "https://localhost:8080/"
        },
        "id": "NLgQptzULD-M",
        "outputId": "1f921ca8-c5ff-49f7-a5e7-7c26eb23b6e5"
      },
      "execution_count": 10,
      "outputs": [
        {
          "output_type": "stream",
          "name": "stdout",
          "text": [
            "EmployeeNumber : Not Normal Distributed\n",
            "Age : Not Normal Distributed\n",
            "LengthService : Not Normal Distributed\n",
            "AbsentHours : Not Normal Distributed\n",
            "MappedGender : Not Normal Distributed\n",
            "MappedCity : Not Normal Distributed\n",
            "MappedTitle : Not Normal Distributed\n",
            "MappedDept : Not Normal Distributed\n",
            "MappedStoreLoc : Not Normal Distributed\n",
            "MappedDivision : Not Normal Distributed\n"
          ]
        }
      ]
    },
    {
      "cell_type": "markdown",
      "source": [
        "Defining Y and X"
      ],
      "metadata": {
        "id": "P_UdyxJALTAq"
      }
    },
    {
      "cell_type": "code",
      "source": [
        "y = df[\"AbsentHours\"]\n",
        "y"
      ],
      "metadata": {
        "colab": {
          "base_uri": "https://localhost:8080/"
        },
        "id": "ucC6WwTK7rdj",
        "outputId": "c2d8ac39-03e9-4a03-e6cf-da1fd452d5fa"
      },
      "execution_count": 11,
      "outputs": [
        {
          "output_type": "execute_result",
          "data": {
            "text/plain": [
              "0        36.577306\n",
              "1        30.165072\n",
              "2        83.807798\n",
              "3        70.020165\n",
              "4         0.000000\n",
              "           ...    \n",
              "8282     93.665111\n",
              "8283      0.000000\n",
              "8284    176.356940\n",
              "8285     60.321917\n",
              "8286    112.023389\n",
              "Name: AbsentHours, Length: 8287, dtype: float64"
            ]
          },
          "metadata": {},
          "execution_count": 11
        }
      ]
    },
    {
      "cell_type": "code",
      "source": [
        "x = df.drop(columns=[\"EmployeeNumber\",\"Surname\",\"GivenName\",\"Gender\",\"City\",\"JobTitle\",\"DepartmentName\",\"StoreLocation\",\"Division\",\"BusinessUnit\",\"AbsentHours\"])\n",
        "x"
      ],
      "metadata": {
        "colab": {
          "base_uri": "https://localhost:8080/",
          "height": 424
        },
        "id": "iP6EDfBQLY39",
        "outputId": "1a1ad282-a8b6-4ae3-d87b-635dc44e77ae"
      },
      "execution_count": 12,
      "outputs": [
        {
          "output_type": "execute_result",
          "data": {
            "text/plain": [
              "      Age  LengthService  MappedGender  MappedCity  MappedTitle  MappedDept  \\\n",
              "0      32              6             0           0            0           0   \n",
              "1      40              5             1           1            0           0   \n",
              "2      48              4             1           2            0           0   \n",
              "3      44              3             0           3            0           0   \n",
              "4      35              3             1           4            0           0   \n",
              "...   ...            ...           ...         ...          ...         ...   \n",
              "8282   46              4             0          63            7           6   \n",
              "8283   34              2             1          53            7           6   \n",
              "8284   58              4             0           9            7           6   \n",
              "8285   43              6             0           5           13          12   \n",
              "8286   46              5             1           5           13          12   \n",
              "\n",
              "      MappedStoreLoc  MappedDivision  \n",
              "0                  0               0  \n",
              "1                  1               0  \n",
              "2                  2               0  \n",
              "3                  3               0  \n",
              "4                  4               0  \n",
              "...              ...             ...  \n",
              "8282              29               0  \n",
              "8283              24               0  \n",
              "8284               6               0  \n",
              "8285               5               0  \n",
              "8286               5               0  \n",
              "\n",
              "[8287 rows x 8 columns]"
            ],
            "text/html": [
              "\n",
              "  <div id=\"df-366fc9b1-3b5d-449a-bdfd-5276884cf187\" class=\"colab-df-container\">\n",
              "    <div>\n",
              "<style scoped>\n",
              "    .dataframe tbody tr th:only-of-type {\n",
              "        vertical-align: middle;\n",
              "    }\n",
              "\n",
              "    .dataframe tbody tr th {\n",
              "        vertical-align: top;\n",
              "    }\n",
              "\n",
              "    .dataframe thead th {\n",
              "        text-align: right;\n",
              "    }\n",
              "</style>\n",
              "<table border=\"1\" class=\"dataframe\">\n",
              "  <thead>\n",
              "    <tr style=\"text-align: right;\">\n",
              "      <th></th>\n",
              "      <th>Age</th>\n",
              "      <th>LengthService</th>\n",
              "      <th>MappedGender</th>\n",
              "      <th>MappedCity</th>\n",
              "      <th>MappedTitle</th>\n",
              "      <th>MappedDept</th>\n",
              "      <th>MappedStoreLoc</th>\n",
              "      <th>MappedDivision</th>\n",
              "    </tr>\n",
              "  </thead>\n",
              "  <tbody>\n",
              "    <tr>\n",
              "      <th>0</th>\n",
              "      <td>32</td>\n",
              "      <td>6</td>\n",
              "      <td>0</td>\n",
              "      <td>0</td>\n",
              "      <td>0</td>\n",
              "      <td>0</td>\n",
              "      <td>0</td>\n",
              "      <td>0</td>\n",
              "    </tr>\n",
              "    <tr>\n",
              "      <th>1</th>\n",
              "      <td>40</td>\n",
              "      <td>5</td>\n",
              "      <td>1</td>\n",
              "      <td>1</td>\n",
              "      <td>0</td>\n",
              "      <td>0</td>\n",
              "      <td>1</td>\n",
              "      <td>0</td>\n",
              "    </tr>\n",
              "    <tr>\n",
              "      <th>2</th>\n",
              "      <td>48</td>\n",
              "      <td>4</td>\n",
              "      <td>1</td>\n",
              "      <td>2</td>\n",
              "      <td>0</td>\n",
              "      <td>0</td>\n",
              "      <td>2</td>\n",
              "      <td>0</td>\n",
              "    </tr>\n",
              "    <tr>\n",
              "      <th>3</th>\n",
              "      <td>44</td>\n",
              "      <td>3</td>\n",
              "      <td>0</td>\n",
              "      <td>3</td>\n",
              "      <td>0</td>\n",
              "      <td>0</td>\n",
              "      <td>3</td>\n",
              "      <td>0</td>\n",
              "    </tr>\n",
              "    <tr>\n",
              "      <th>4</th>\n",
              "      <td>35</td>\n",
              "      <td>3</td>\n",
              "      <td>1</td>\n",
              "      <td>4</td>\n",
              "      <td>0</td>\n",
              "      <td>0</td>\n",
              "      <td>4</td>\n",
              "      <td>0</td>\n",
              "    </tr>\n",
              "    <tr>\n",
              "      <th>...</th>\n",
              "      <td>...</td>\n",
              "      <td>...</td>\n",
              "      <td>...</td>\n",
              "      <td>...</td>\n",
              "      <td>...</td>\n",
              "      <td>...</td>\n",
              "      <td>...</td>\n",
              "      <td>...</td>\n",
              "    </tr>\n",
              "    <tr>\n",
              "      <th>8282</th>\n",
              "      <td>46</td>\n",
              "      <td>4</td>\n",
              "      <td>0</td>\n",
              "      <td>63</td>\n",
              "      <td>7</td>\n",
              "      <td>6</td>\n",
              "      <td>29</td>\n",
              "      <td>0</td>\n",
              "    </tr>\n",
              "    <tr>\n",
              "      <th>8283</th>\n",
              "      <td>34</td>\n",
              "      <td>2</td>\n",
              "      <td>1</td>\n",
              "      <td>53</td>\n",
              "      <td>7</td>\n",
              "      <td>6</td>\n",
              "      <td>24</td>\n",
              "      <td>0</td>\n",
              "    </tr>\n",
              "    <tr>\n",
              "      <th>8284</th>\n",
              "      <td>58</td>\n",
              "      <td>4</td>\n",
              "      <td>0</td>\n",
              "      <td>9</td>\n",
              "      <td>7</td>\n",
              "      <td>6</td>\n",
              "      <td>6</td>\n",
              "      <td>0</td>\n",
              "    </tr>\n",
              "    <tr>\n",
              "      <th>8285</th>\n",
              "      <td>43</td>\n",
              "      <td>6</td>\n",
              "      <td>0</td>\n",
              "      <td>5</td>\n",
              "      <td>13</td>\n",
              "      <td>12</td>\n",
              "      <td>5</td>\n",
              "      <td>0</td>\n",
              "    </tr>\n",
              "    <tr>\n",
              "      <th>8286</th>\n",
              "      <td>46</td>\n",
              "      <td>5</td>\n",
              "      <td>1</td>\n",
              "      <td>5</td>\n",
              "      <td>13</td>\n",
              "      <td>12</td>\n",
              "      <td>5</td>\n",
              "      <td>0</td>\n",
              "    </tr>\n",
              "  </tbody>\n",
              "</table>\n",
              "<p>8287 rows × 8 columns</p>\n",
              "</div>\n",
              "    <div class=\"colab-df-buttons\">\n",
              "\n",
              "  <div class=\"colab-df-container\">\n",
              "    <button class=\"colab-df-convert\" onclick=\"convertToInteractive('df-366fc9b1-3b5d-449a-bdfd-5276884cf187')\"\n",
              "            title=\"Convert this dataframe to an interactive table.\"\n",
              "            style=\"display:none;\">\n",
              "\n",
              "  <svg xmlns=\"http://www.w3.org/2000/svg\" height=\"24px\" viewBox=\"0 -960 960 960\">\n",
              "    <path d=\"M120-120v-720h720v720H120Zm60-500h600v-160H180v160Zm220 220h160v-160H400v160Zm0 220h160v-160H400v160ZM180-400h160v-160H180v160Zm440 0h160v-160H620v160ZM180-180h160v-160H180v160Zm440 0h160v-160H620v160Z\"/>\n",
              "  </svg>\n",
              "    </button>\n",
              "\n",
              "  <style>\n",
              "    .colab-df-container {\n",
              "      display:flex;\n",
              "      gap: 12px;\n",
              "    }\n",
              "\n",
              "    .colab-df-convert {\n",
              "      background-color: #E8F0FE;\n",
              "      border: none;\n",
              "      border-radius: 50%;\n",
              "      cursor: pointer;\n",
              "      display: none;\n",
              "      fill: #1967D2;\n",
              "      height: 32px;\n",
              "      padding: 0 0 0 0;\n",
              "      width: 32px;\n",
              "    }\n",
              "\n",
              "    .colab-df-convert:hover {\n",
              "      background-color: #E2EBFA;\n",
              "      box-shadow: 0px 1px 2px rgba(60, 64, 67, 0.3), 0px 1px 3px 1px rgba(60, 64, 67, 0.15);\n",
              "      fill: #174EA6;\n",
              "    }\n",
              "\n",
              "    .colab-df-buttons div {\n",
              "      margin-bottom: 4px;\n",
              "    }\n",
              "\n",
              "    [theme=dark] .colab-df-convert {\n",
              "      background-color: #3B4455;\n",
              "      fill: #D2E3FC;\n",
              "    }\n",
              "\n",
              "    [theme=dark] .colab-df-convert:hover {\n",
              "      background-color: #434B5C;\n",
              "      box-shadow: 0px 1px 3px 1px rgba(0, 0, 0, 0.15);\n",
              "      filter: drop-shadow(0px 1px 2px rgba(0, 0, 0, 0.3));\n",
              "      fill: #FFFFFF;\n",
              "    }\n",
              "  </style>\n",
              "\n",
              "    <script>\n",
              "      const buttonEl =\n",
              "        document.querySelector('#df-366fc9b1-3b5d-449a-bdfd-5276884cf187 button.colab-df-convert');\n",
              "      buttonEl.style.display =\n",
              "        google.colab.kernel.accessAllowed ? 'block' : 'none';\n",
              "\n",
              "      async function convertToInteractive(key) {\n",
              "        const element = document.querySelector('#df-366fc9b1-3b5d-449a-bdfd-5276884cf187');\n",
              "        const dataTable =\n",
              "          await google.colab.kernel.invokeFunction('convertToInteractive',\n",
              "                                                    [key], {});\n",
              "        if (!dataTable) return;\n",
              "\n",
              "        const docLinkHtml = 'Like what you see? Visit the ' +\n",
              "          '<a target=\"_blank\" href=https://colab.research.google.com/notebooks/data_table.ipynb>data table notebook</a>'\n",
              "          + ' to learn more about interactive tables.';\n",
              "        element.innerHTML = '';\n",
              "        dataTable['output_type'] = 'display_data';\n",
              "        await google.colab.output.renderOutput(dataTable, element);\n",
              "        const docLink = document.createElement('div');\n",
              "        docLink.innerHTML = docLinkHtml;\n",
              "        element.appendChild(docLink);\n",
              "      }\n",
              "    </script>\n",
              "  </div>\n",
              "\n",
              "\n",
              "<div id=\"df-db81f101-5efb-431c-b9da-93d8bd030c6d\">\n",
              "  <button class=\"colab-df-quickchart\" onclick=\"quickchart('df-db81f101-5efb-431c-b9da-93d8bd030c6d')\"\n",
              "            title=\"Suggest charts\"\n",
              "            style=\"display:none;\">\n",
              "\n",
              "<svg xmlns=\"http://www.w3.org/2000/svg\" height=\"24px\"viewBox=\"0 0 24 24\"\n",
              "     width=\"24px\">\n",
              "    <g>\n",
              "        <path d=\"M19 3H5c-1.1 0-2 .9-2 2v14c0 1.1.9 2 2 2h14c1.1 0 2-.9 2-2V5c0-1.1-.9-2-2-2zM9 17H7v-7h2v7zm4 0h-2V7h2v10zm4 0h-2v-4h2v4z\"/>\n",
              "    </g>\n",
              "</svg>\n",
              "  </button>\n",
              "\n",
              "<style>\n",
              "  .colab-df-quickchart {\n",
              "      --bg-color: #E8F0FE;\n",
              "      --fill-color: #1967D2;\n",
              "      --hover-bg-color: #E2EBFA;\n",
              "      --hover-fill-color: #174EA6;\n",
              "      --disabled-fill-color: #AAA;\n",
              "      --disabled-bg-color: #DDD;\n",
              "  }\n",
              "\n",
              "  [theme=dark] .colab-df-quickchart {\n",
              "      --bg-color: #3B4455;\n",
              "      --fill-color: #D2E3FC;\n",
              "      --hover-bg-color: #434B5C;\n",
              "      --hover-fill-color: #FFFFFF;\n",
              "      --disabled-bg-color: #3B4455;\n",
              "      --disabled-fill-color: #666;\n",
              "  }\n",
              "\n",
              "  .colab-df-quickchart {\n",
              "    background-color: var(--bg-color);\n",
              "    border: none;\n",
              "    border-radius: 50%;\n",
              "    cursor: pointer;\n",
              "    display: none;\n",
              "    fill: var(--fill-color);\n",
              "    height: 32px;\n",
              "    padding: 0;\n",
              "    width: 32px;\n",
              "  }\n",
              "\n",
              "  .colab-df-quickchart:hover {\n",
              "    background-color: var(--hover-bg-color);\n",
              "    box-shadow: 0 1px 2px rgba(60, 64, 67, 0.3), 0 1px 3px 1px rgba(60, 64, 67, 0.15);\n",
              "    fill: var(--button-hover-fill-color);\n",
              "  }\n",
              "\n",
              "  .colab-df-quickchart-complete:disabled,\n",
              "  .colab-df-quickchart-complete:disabled:hover {\n",
              "    background-color: var(--disabled-bg-color);\n",
              "    fill: var(--disabled-fill-color);\n",
              "    box-shadow: none;\n",
              "  }\n",
              "\n",
              "  .colab-df-spinner {\n",
              "    border: 2px solid var(--fill-color);\n",
              "    border-color: transparent;\n",
              "    border-bottom-color: var(--fill-color);\n",
              "    animation:\n",
              "      spin 1s steps(1) infinite;\n",
              "  }\n",
              "\n",
              "  @keyframes spin {\n",
              "    0% {\n",
              "      border-color: transparent;\n",
              "      border-bottom-color: var(--fill-color);\n",
              "      border-left-color: var(--fill-color);\n",
              "    }\n",
              "    20% {\n",
              "      border-color: transparent;\n",
              "      border-left-color: var(--fill-color);\n",
              "      border-top-color: var(--fill-color);\n",
              "    }\n",
              "    30% {\n",
              "      border-color: transparent;\n",
              "      border-left-color: var(--fill-color);\n",
              "      border-top-color: var(--fill-color);\n",
              "      border-right-color: var(--fill-color);\n",
              "    }\n",
              "    40% {\n",
              "      border-color: transparent;\n",
              "      border-right-color: var(--fill-color);\n",
              "      border-top-color: var(--fill-color);\n",
              "    }\n",
              "    60% {\n",
              "      border-color: transparent;\n",
              "      border-right-color: var(--fill-color);\n",
              "    }\n",
              "    80% {\n",
              "      border-color: transparent;\n",
              "      border-right-color: var(--fill-color);\n",
              "      border-bottom-color: var(--fill-color);\n",
              "    }\n",
              "    90% {\n",
              "      border-color: transparent;\n",
              "      border-bottom-color: var(--fill-color);\n",
              "    }\n",
              "  }\n",
              "</style>\n",
              "\n",
              "  <script>\n",
              "    async function quickchart(key) {\n",
              "      const quickchartButtonEl =\n",
              "        document.querySelector('#' + key + ' button');\n",
              "      quickchartButtonEl.disabled = true;  // To prevent multiple clicks.\n",
              "      quickchartButtonEl.classList.add('colab-df-spinner');\n",
              "      try {\n",
              "        const charts = await google.colab.kernel.invokeFunction(\n",
              "            'suggestCharts', [key], {});\n",
              "      } catch (error) {\n",
              "        console.error('Error during call to suggestCharts:', error);\n",
              "      }\n",
              "      quickchartButtonEl.classList.remove('colab-df-spinner');\n",
              "      quickchartButtonEl.classList.add('colab-df-quickchart-complete');\n",
              "    }\n",
              "    (() => {\n",
              "      let quickchartButtonEl =\n",
              "        document.querySelector('#df-db81f101-5efb-431c-b9da-93d8bd030c6d button');\n",
              "      quickchartButtonEl.style.display =\n",
              "        google.colab.kernel.accessAllowed ? 'block' : 'none';\n",
              "    })();\n",
              "  </script>\n",
              "</div>\n",
              "\n",
              "  <div id=\"id_31ab8f25-f124-494b-9dc4-d2b01c1d50ee\">\n",
              "    <style>\n",
              "      .colab-df-generate {\n",
              "        background-color: #E8F0FE;\n",
              "        border: none;\n",
              "        border-radius: 50%;\n",
              "        cursor: pointer;\n",
              "        display: none;\n",
              "        fill: #1967D2;\n",
              "        height: 32px;\n",
              "        padding: 0 0 0 0;\n",
              "        width: 32px;\n",
              "      }\n",
              "\n",
              "      .colab-df-generate:hover {\n",
              "        background-color: #E2EBFA;\n",
              "        box-shadow: 0px 1px 2px rgba(60, 64, 67, 0.3), 0px 1px 3px 1px rgba(60, 64, 67, 0.15);\n",
              "        fill: #174EA6;\n",
              "      }\n",
              "\n",
              "      [theme=dark] .colab-df-generate {\n",
              "        background-color: #3B4455;\n",
              "        fill: #D2E3FC;\n",
              "      }\n",
              "\n",
              "      [theme=dark] .colab-df-generate:hover {\n",
              "        background-color: #434B5C;\n",
              "        box-shadow: 0px 1px 3px 1px rgba(0, 0, 0, 0.15);\n",
              "        filter: drop-shadow(0px 1px 2px rgba(0, 0, 0, 0.3));\n",
              "        fill: #FFFFFF;\n",
              "      }\n",
              "    </style>\n",
              "    <button class=\"colab-df-generate\" onclick=\"generateWithVariable('x')\"\n",
              "            title=\"Generate code using this dataframe.\"\n",
              "            style=\"display:none;\">\n",
              "\n",
              "  <svg xmlns=\"http://www.w3.org/2000/svg\" height=\"24px\"viewBox=\"0 0 24 24\"\n",
              "       width=\"24px\">\n",
              "    <path d=\"M7,19H8.4L18.45,9,17,7.55,7,17.6ZM5,21V16.75L18.45,3.32a2,2,0,0,1,2.83,0l1.4,1.43a1.91,1.91,0,0,1,.58,1.4,1.91,1.91,0,0,1-.58,1.4L9.25,21ZM18.45,9,17,7.55Zm-12,3A5.31,5.31,0,0,0,4.9,8.1,5.31,5.31,0,0,0,1,6.5,5.31,5.31,0,0,0,4.9,4.9,5.31,5.31,0,0,0,6.5,1,5.31,5.31,0,0,0,8.1,4.9,5.31,5.31,0,0,0,12,6.5,5.46,5.46,0,0,0,6.5,12Z\"/>\n",
              "  </svg>\n",
              "    </button>\n",
              "    <script>\n",
              "      (() => {\n",
              "      const buttonEl =\n",
              "        document.querySelector('#id_31ab8f25-f124-494b-9dc4-d2b01c1d50ee button.colab-df-generate');\n",
              "      buttonEl.style.display =\n",
              "        google.colab.kernel.accessAllowed ? 'block' : 'none';\n",
              "\n",
              "      buttonEl.onclick = () => {\n",
              "        google.colab.notebook.generateWithVariable('x');\n",
              "      }\n",
              "      })();\n",
              "    </script>\n",
              "  </div>\n",
              "\n",
              "    </div>\n",
              "  </div>\n"
            ],
            "application/vnd.google.colaboratory.intrinsic+json": {
              "type": "dataframe",
              "variable_name": "x",
              "summary": "{\n  \"name\": \"x\",\n  \"rows\": 8287,\n  \"fields\": [\n    {\n      \"column\": \"Age\",\n      \"properties\": {\n        \"dtype\": \"number\",\n        \"std\": 9,\n        \"min\": 16,\n        \"max\": 77,\n        \"num_unique_values\": 58,\n        \"samples\": [\n          32,\n          50,\n          47\n        ],\n        \"semantic_type\": \"\",\n        \"description\": \"\"\n      }\n    },\n    {\n      \"column\": \"LengthService\",\n      \"properties\": {\n        \"dtype\": \"number\",\n        \"std\": 2,\n        \"min\": 0,\n        \"max\": 43,\n        \"num_unique_values\": 37,\n        \"samples\": [\n          16,\n          20,\n          2\n        ],\n        \"semantic_type\": \"\",\n        \"description\": \"\"\n      }\n    },\n    {\n      \"column\": \"MappedGender\",\n      \"properties\": {\n        \"dtype\": \"number\",\n        \"std\": 0,\n        \"min\": 0,\n        \"max\": 1,\n        \"num_unique_values\": 2,\n        \"samples\": [\n          1,\n          0\n        ],\n        \"semantic_type\": \"\",\n        \"description\": \"\"\n      }\n    },\n    {\n      \"column\": \"MappedCity\",\n      \"properties\": {\n        \"dtype\": \"number\",\n        \"std\": 58,\n        \"min\": 0,\n        \"max\": 242,\n        \"num_unique_values\": 243,\n        \"samples\": [\n          24,\n          6\n        ],\n        \"semantic_type\": \"\",\n        \"description\": \"\"\n      }\n    },\n    {\n      \"column\": \"MappedTitle\",\n      \"properties\": {\n        \"dtype\": \"number\",\n        \"std\": 12,\n        \"min\": 0,\n        \"max\": 46,\n        \"num_unique_values\": 47,\n        \"samples\": [\n          27,\n          39\n        ],\n        \"semantic_type\": \"\",\n        \"description\": \"\"\n      }\n    },\n    {\n      \"column\": \"MappedDept\",\n      \"properties\": {\n        \"dtype\": \"number\",\n        \"std\": 6,\n        \"min\": 0,\n        \"max\": 20,\n        \"num_unique_values\": 21,\n        \"samples\": [\n          0,\n          17\n        ],\n        \"semantic_type\": \"\",\n        \"description\": \"\"\n      }\n    },\n    {\n      \"column\": \"MappedStoreLoc\",\n      \"properties\": {\n        \"dtype\": \"number\",\n        \"std\": 8,\n        \"min\": 0,\n        \"max\": 39,\n        \"num_unique_values\": 40,\n        \"samples\": [\n          19,\n          16\n        ],\n        \"semantic_type\": \"\",\n        \"description\": \"\"\n      }\n    },\n    {\n      \"column\": \"MappedDivision\",\n      \"properties\": {\n        \"dtype\": \"number\",\n        \"std\": 0,\n        \"min\": 0,\n        \"max\": 5,\n        \"num_unique_values\": 6,\n        \"samples\": [\n          0,\n          1\n        ],\n        \"semantic_type\": \"\",\n        \"description\": \"\"\n      }\n    }\n  ]\n}"
            }
          },
          "metadata": {},
          "execution_count": 12
        }
      ]
    },
    {
      "cell_type": "markdown",
      "source": [
        "Standardize the Inputs"
      ],
      "metadata": {
        "id": "R88FU4n4rMur"
      }
    },
    {
      "cell_type": "code",
      "source": [
        "from sklearn.preprocessing import StandardScaler\n",
        "\n",
        "x = StandardScaler().fit_transform(x)"
      ],
      "metadata": {
        "id": "d6Q61BOsrMPf"
      },
      "execution_count": 13,
      "outputs": []
    },
    {
      "cell_type": "markdown",
      "source": [
        "Training ML model"
      ],
      "metadata": {
        "id": "3jTeYqe-WARc"
      }
    },
    {
      "cell_type": "code",
      "source": [
        "from sklearn.model_selection import train_test_split"
      ],
      "metadata": {
        "id": "YZdQZfkFOhR5"
      },
      "execution_count": 14,
      "outputs": []
    },
    {
      "cell_type": "code",
      "source": [
        "x_train, x_test, y_train, y_test = train_test_split(x, y, test_size=0.2, random_state=42)\n",
        "model = LinearRegression().fit(x_train, y_train)\n"
      ],
      "metadata": {
        "id": "ey1uvoTp1x9A"
      },
      "execution_count": 15,
      "outputs": []
    },
    {
      "cell_type": "code",
      "source": [
        "print(x_train.shape, x_test.shape, y_train.shape, y_test.shape)"
      ],
      "metadata": {
        "colab": {
          "base_uri": "https://localhost:8080/"
        },
        "id": "DclR5isx10L1",
        "outputId": "8ccf7e10-abf6-40b0-f377-a68d74f667a5"
      },
      "execution_count": 16,
      "outputs": [
        {
          "output_type": "stream",
          "name": "stdout",
          "text": [
            "(6629, 8) (1658, 8) (6629,) (1658,)\n"
          ]
        }
      ]
    },
    {
      "cell_type": "markdown",
      "source": [
        "Run Linear Regression\n"
      ],
      "metadata": {
        "id": "Nzd1-hD8RaK3"
      }
    },
    {
      "cell_type": "code",
      "source": [
        "from sklearn.linear_model import LinearRegression\n",
        "model = LinearRegression()\n",
        "model.fit(x_train, y_train)"
      ],
      "metadata": {
        "colab": {
          "base_uri": "https://localhost:8080/",
          "height": 75
        },
        "id": "nRWeWnvRPCCS",
        "outputId": "da260003-f921-4678-f4d3-1f0f826c793f"
      },
      "execution_count": 17,
      "outputs": [
        {
          "output_type": "execute_result",
          "data": {
            "text/plain": [
              "LinearRegression()"
            ],
            "text/html": [
              "<style>#sk-container-id-1 {color: black;background-color: white;}#sk-container-id-1 pre{padding: 0;}#sk-container-id-1 div.sk-toggleable {background-color: white;}#sk-container-id-1 label.sk-toggleable__label {cursor: pointer;display: block;width: 100%;margin-bottom: 0;padding: 0.3em;box-sizing: border-box;text-align: center;}#sk-container-id-1 label.sk-toggleable__label-arrow:before {content: \"▸\";float: left;margin-right: 0.25em;color: #696969;}#sk-container-id-1 label.sk-toggleable__label-arrow:hover:before {color: black;}#sk-container-id-1 div.sk-estimator:hover label.sk-toggleable__label-arrow:before {color: black;}#sk-container-id-1 div.sk-toggleable__content {max-height: 0;max-width: 0;overflow: hidden;text-align: left;background-color: #f0f8ff;}#sk-container-id-1 div.sk-toggleable__content pre {margin: 0.2em;color: black;border-radius: 0.25em;background-color: #f0f8ff;}#sk-container-id-1 input.sk-toggleable__control:checked~div.sk-toggleable__content {max-height: 200px;max-width: 100%;overflow: auto;}#sk-container-id-1 input.sk-toggleable__control:checked~label.sk-toggleable__label-arrow:before {content: \"▾\";}#sk-container-id-1 div.sk-estimator input.sk-toggleable__control:checked~label.sk-toggleable__label {background-color: #d4ebff;}#sk-container-id-1 div.sk-label input.sk-toggleable__control:checked~label.sk-toggleable__label {background-color: #d4ebff;}#sk-container-id-1 input.sk-hidden--visually {border: 0;clip: rect(1px 1px 1px 1px);clip: rect(1px, 1px, 1px, 1px);height: 1px;margin: -1px;overflow: hidden;padding: 0;position: absolute;width: 1px;}#sk-container-id-1 div.sk-estimator {font-family: monospace;background-color: #f0f8ff;border: 1px dotted black;border-radius: 0.25em;box-sizing: border-box;margin-bottom: 0.5em;}#sk-container-id-1 div.sk-estimator:hover {background-color: #d4ebff;}#sk-container-id-1 div.sk-parallel-item::after {content: \"\";width: 100%;border-bottom: 1px solid gray;flex-grow: 1;}#sk-container-id-1 div.sk-label:hover label.sk-toggleable__label {background-color: #d4ebff;}#sk-container-id-1 div.sk-serial::before {content: \"\";position: absolute;border-left: 1px solid gray;box-sizing: border-box;top: 0;bottom: 0;left: 50%;z-index: 0;}#sk-container-id-1 div.sk-serial {display: flex;flex-direction: column;align-items: center;background-color: white;padding-right: 0.2em;padding-left: 0.2em;position: relative;}#sk-container-id-1 div.sk-item {position: relative;z-index: 1;}#sk-container-id-1 div.sk-parallel {display: flex;align-items: stretch;justify-content: center;background-color: white;position: relative;}#sk-container-id-1 div.sk-item::before, #sk-container-id-1 div.sk-parallel-item::before {content: \"\";position: absolute;border-left: 1px solid gray;box-sizing: border-box;top: 0;bottom: 0;left: 50%;z-index: -1;}#sk-container-id-1 div.sk-parallel-item {display: flex;flex-direction: column;z-index: 1;position: relative;background-color: white;}#sk-container-id-1 div.sk-parallel-item:first-child::after {align-self: flex-end;width: 50%;}#sk-container-id-1 div.sk-parallel-item:last-child::after {align-self: flex-start;width: 50%;}#sk-container-id-1 div.sk-parallel-item:only-child::after {width: 0;}#sk-container-id-1 div.sk-dashed-wrapped {border: 1px dashed gray;margin: 0 0.4em 0.5em 0.4em;box-sizing: border-box;padding-bottom: 0.4em;background-color: white;}#sk-container-id-1 div.sk-label label {font-family: monospace;font-weight: bold;display: inline-block;line-height: 1.2em;}#sk-container-id-1 div.sk-label-container {text-align: center;}#sk-container-id-1 div.sk-container {/* jupyter's `normalize.less` sets `[hidden] { display: none; }` but bootstrap.min.css set `[hidden] { display: none !important; }` so we also need the `!important` here to be able to override the default hidden behavior on the sphinx rendered scikit-learn.org. See: https://github.com/scikit-learn/scikit-learn/issues/21755 */display: inline-block !important;position: relative;}#sk-container-id-1 div.sk-text-repr-fallback {display: none;}</style><div id=\"sk-container-id-1\" class=\"sk-top-container\"><div class=\"sk-text-repr-fallback\"><pre>LinearRegression()</pre><b>In a Jupyter environment, please rerun this cell to show the HTML representation or trust the notebook. <br />On GitHub, the HTML representation is unable to render, please try loading this page with nbviewer.org.</b></div><div class=\"sk-container\" hidden><div class=\"sk-item\"><div class=\"sk-estimator sk-toggleable\"><input class=\"sk-toggleable__control sk-hidden--visually\" id=\"sk-estimator-id-1\" type=\"checkbox\" checked><label for=\"sk-estimator-id-1\" class=\"sk-toggleable__label sk-toggleable__label-arrow\">LinearRegression</label><div class=\"sk-toggleable__content\"><pre>LinearRegression()</pre></div></div></div></div></div>"
            ]
          },
          "metadata": {},
          "execution_count": 17
        }
      ]
    },
    {
      "cell_type": "markdown",
      "source": [
        "Showing the R2 Score of the Model"
      ],
      "metadata": {
        "id": "r5HA_yCgdhgD"
      }
    },
    {
      "cell_type": "code",
      "source": [
        "from sklearn.metrics import r2_score\n",
        "\n",
        "y_pred = model.predict(x_test)\n",
        "r2_score = r2_score(y_test, y_pred)\n",
        "print(\"R2 Score:\", r2_score)\n"
      ],
      "metadata": {
        "colab": {
          "base_uri": "https://localhost:8080/"
        },
        "id": "-QIHfe6EZknR",
        "outputId": "c5183a51-6a4f-4b12-f3fc-9fe087ea559c"
      },
      "execution_count": 18,
      "outputs": [
        {
          "output_type": "stream",
          "name": "stdout",
          "text": [
            "R2 Score: 0.7391945227818145\n"
          ]
        }
      ]
    },
    {
      "cell_type": "markdown",
      "source": [
        "Showing the Mean Absolute Error of the Model"
      ],
      "metadata": {
        "id": "s8aATfQIdmen"
      }
    },
    {
      "cell_type": "code",
      "source": [
        "from sklearn.metrics import mean_absolute_error\n",
        "mae = mean_absolute_error(y_test, y_pred)\n",
        "print(\"Mean Absolute Error:\", mae)\n"
      ],
      "metadata": {
        "colab": {
          "base_uri": "https://localhost:8080/"
        },
        "id": "Msr8wY4Cev5V",
        "outputId": "0d0b5788-bb39-4916-cdc1-4969d15b0a64"
      },
      "execution_count": 19,
      "outputs": [
        {
          "output_type": "stream",
          "name": "stdout",
          "text": [
            "Mean Absolute Error: 19.604692773522903\n"
          ]
        }
      ]
    },
    {
      "cell_type": "markdown",
      "source": [
        "Showing the Coefficient of the Model"
      ],
      "metadata": {
        "id": "-GM4u_PDWVrb"
      }
    },
    {
      "cell_type": "code",
      "source": [
        "model.coef_\n"
      ],
      "metadata": {
        "colab": {
          "base_uri": "https://localhost:8080/"
        },
        "id": "bVtH8-UQQEmU",
        "outputId": "8b20b81b-7c2c-48a0-9bf1-c49495beeef8"
      },
      "execution_count": 23,
      "outputs": [
        {
          "output_type": "execute_result",
          "data": {
            "text/plain": [
              "array([41.74474657, -3.56815015, -8.249563  ,  0.53936826, -0.39310564,\n",
              "        0.59634881, -0.7598522 , -2.23004863])"
            ]
          },
          "metadata": {},
          "execution_count": 23
        }
      ]
    },
    {
      "cell_type": "markdown",
      "source": [
        "Displaying the Linear Regression Equation of the Model"
      ],
      "metadata": {
        "id": "4oHCbWgFWZcS"
      }
    },
    {
      "cell_type": "code",
      "source": [
        "equation = f\"AbsentHours = {model.intercept_:.2f}\"\n",
        "for i, coef in enumerate(model.coef_):\n",
        "    equation += f\" + {coef:.2f} * {num_feat[i]}\"\n",
        "print(equation)\n"
      ],
      "metadata": {
        "colab": {
          "base_uri": "https://localhost:8080/"
        },
        "id": "4YnELWV_Rmhj",
        "outputId": "d77d135c-5629-44c4-fa24-8292b7c5d18c"
      },
      "execution_count": 26,
      "outputs": [
        {
          "output_type": "stream",
          "name": "stdout",
          "text": [
            "AbsentHours = 61.40 + 41.74 * EmployeeNumber + -3.57 * Age + -8.25 * LengthService + 0.54 * AbsentHours + -0.39 * MappedGender + 0.60 * MappedCity + -0.76 * MappedTitle + -2.23 * MappedDept\n"
          ]
        }
      ]
    }
  ]
}